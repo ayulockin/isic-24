{
 "cells": [
  {
   "cell_type": "code",
   "execution_count": 1,
   "metadata": {},
   "outputs": [
    {
     "name": "stdout",
     "output_type": "stream",
     "text": [
      "30\n"
     ]
    },
    {
     "name": "stderr",
     "output_type": "stream",
     "text": [
      "INFO:albumentations.check_version:A new version of Albumentations is available: 1.4.12 (you have 1.4.11). Upgrade using: pip install --upgrade albumentations\n"
     ]
    },
    {
     "name": "stdout",
     "output_type": "stream",
     "text": [
      "Using cuda device\n"
     ]
    }
   ],
   "source": [
    "import os\n",
    "\n",
    "print(os.cpu_count())\n",
    "\n",
    "import copy\n",
    "import math\n",
    "import wandb\n",
    "\n",
    "wandb.require(\"core\")\n",
    "\n",
    "import random\n",
    "import pandas as pd\n",
    "import numpy as np\n",
    "from tqdm import tqdm\n",
    "import matplotlib.pyplot as plt\n",
    "\n",
    "import torch\n",
    "from torchvision.io import read_image\n",
    "from torch.utils.data import Dataset, DataLoader\n",
    "from torch.utils.data import WeightedRandomSampler\n",
    "from torchvision import transforms\n",
    "import torch.optim as optim\n",
    "from torch import nn\n",
    "from torchvision import models\n",
    "import torch.backends.cudnn as cudnn\n",
    "\n",
    "import albumentations as A\n",
    "from albumentations.pytorch import ToTensorV2\n",
    "\n",
    "from torcheval.metrics.functional import binary_auroc\n",
    "\n",
    "from sklearn.metrics import roc_auc_score\n",
    "from sklearn.model_selection import StratifiedGroupKFold\n",
    "\n",
    "import albumentations as A\n",
    "from albumentations.pytorch import ToTensorV2\n",
    "\n",
    "from colorama import Fore, Style\n",
    "\n",
    "b_ = Fore.BLUE\n",
    "sr_ = Style.RESET_ALL\n",
    "\n",
    "device = (\n",
    "    \"cuda\"\n",
    "    if torch.cuda.is_available()\n",
    "    else \"mps\" if torch.backends.mps.is_available() else \"cpu\"\n",
    ")\n",
    "print(f\"Using {device} device\")"
   ]
  },
  {
   "cell_type": "code",
   "execution_count": 2,
   "metadata": {},
   "outputs": [],
   "source": [
    "def set_seed(seed):\n",
    "    random.seed(seed)\n",
    "    np.random.seed(seed)\n",
    "    torch.manual_seed(seed)\n",
    "    torch.cuda.manual_seed(seed)\n",
    "    torch.cuda.manual_seed_all(seed)  # if you are using multi-GPU.\n",
    "    torch.backends.cudnn.deterministic = True\n",
    "    torch.backends.cudnn.benchmark = False\n",
    "    torch.set_float32_matmul_precision(\"highest\")\n",
    "\n",
    "\n",
    "# Set the random seed\n",
    "set_seed(42)\n"
   ]
  },
  {
   "cell_type": "code",
   "execution_count": 3,
   "metadata": {},
   "outputs": [
    {
     "name": "stderr",
     "output_type": "stream",
     "text": [
      "/tmp/ipykernel_2479479/1209183111.py:8: DtypeWarning: Columns (51,52) have mixed types. Specify dtype option on import or set low_memory=False.\n",
      "  train_metadata_df = pd.read_csv(\"../data/stratified_5_fold_train_metadata.csv\")\n"
     ]
    },
    {
     "name": "stdout",
     "output_type": "stream",
     "text": [
      "Train: 401059 | Extra train: 9239\n"
     ]
    }
   ],
   "source": [
    "def add_path(row):\n",
    "    return f\"../data/train-image/image/{row.isic_id}.jpg\"\n",
    "\n",
    "\n",
    "def add_extra_path(row):\n",
    "    return f\"../data/extra/malignant_images/{row.isic_id}.jpg\"\n",
    "\n",
    "train_metadata_df = pd.read_csv(\"../data/stratified_5_fold_train_metadata.csv\")\n",
    "extra_malignant_df = pd.read_csv(\"../data/extra_malignant.csv\")\n",
    "train_metadata_df[\"path\"] = train_metadata_df.apply(lambda row: add_path(row), axis=1)\n",
    "extra_malignant_df[\"path\"] = extra_malignant_df.apply(lambda row: add_extra_path(row), axis=1)\n",
    "print(f\"Train: {len(train_metadata_df)} | Extra train: {len(extra_malignant_df)}\")\n",
    "\n",
    "train_metadata_df = train_metadata_df[[\"path\", \"target\", \"fold\"]]\n",
    "extra_malignant_df = extra_malignant_df[[\"path\", \"target\", \"fold\"]]\n"
   ]
  },
  {
   "cell_type": "code",
   "execution_count": 4,
   "metadata": {},
   "outputs": [],
   "source": [
    "valid_df = train_metadata_df.loc[train_metadata_df.fold == 1]"
   ]
  },
  {
   "cell_type": "code",
   "execution_count": 5,
   "metadata": {},
   "outputs": [
    {
     "name": "stderr",
     "output_type": "stream",
     "text": [
      "/home/ubuntu/.local/lib/python3.10/site-packages/pydantic/main.py:308: UserWarning: Pydantic serializer warnings:\n",
      "  Expected `Union[float, json-or-python[json=list[float], python=list[float]]]` but got `tuple` - serialized value may not be as expected\n",
      "  Expected `Union[float, json-or-python[json=list[float], python=list[float]]]` but got `tuple` - serialized value may not be as expected\n",
      "  return self.__pydantic_serializer__.to_python(\n"
     ]
    }
   ],
   "source": [
    "# dataset\n",
    "class SkinDataset(Dataset):\n",
    "    def __init__(self, df: pd.DataFrame, transform=None, target_transform=None):\n",
    "        assert \"path\" in df.columns\n",
    "        assert \"target\" in df.columns\n",
    "\n",
    "        self.paths = df.path.tolist()\n",
    "        self.labels = df.target.tolist()  # binary\n",
    "        self.transform = transform\n",
    "        self.target_transform = target_transform\n",
    "\n",
    "    def __len__(self):\n",
    "        return len(self.paths)\n",
    "\n",
    "    def __getitem__(self, idx: int):\n",
    "        image = read_image(self.paths[idx]).to(torch.uint8)\n",
    "        label = self.labels[idx] / 1.0\n",
    "        if self.transform:\n",
    "            image = image.numpy().transpose((1, 2, 0))\n",
    "            image = self.transform(image=image)[\"image\"]\n",
    "        if self.target_transform:\n",
    "            label = self.target_transform(label)\n",
    "        return image, label\n",
    "\n",
    "    def get_class_samples(self, class_label):\n",
    "        indices = [i for i, label in enumerate(self.labels) if label == class_label]\n",
    "        return indices\n",
    "\n",
    "\n",
    "transforms_valid = A.Compose(\n",
    "    [\n",
    "        A.Resize(124, 124),\n",
    "        A.Normalize(),\n",
    "        ToTensorV2(),\n",
    "    ]\n",
    ")"
   ]
  },
  {
   "cell_type": "code",
   "execution_count": 6,
   "metadata": {},
   "outputs": [],
   "source": [
    "num_workers = 24  # based on profiling\n",
    "\n",
    "valid_dataset = SkinDataset(valid_df, transform=transforms_valid)\n",
    "valid_dataloader = DataLoader(\n",
    "    valid_dataset,\n",
    "    batch_size=128,\n",
    "    shuffle=False,\n",
    "    num_workers=num_workers,\n",
    "    pin_memory=True,\n",
    "    persistent_workers=True,\n",
    ")"
   ]
  },
  {
   "cell_type": "code",
   "execution_count": 7,
   "metadata": {},
   "outputs": [],
   "source": [
    "class SkinClassifier(nn.Module):\n",
    "    def __init__(self, model_name=\"resnet18\", freeze_backbone=False, bias_value=None):\n",
    "        super(SkinClassifier, self).__init__()\n",
    "\n",
    "        # Load the specified pre-trained model\n",
    "        if model_name == \"resnet18\":\n",
    "            self.backbone = models.resnet18(weights=\"IMAGENET1K_V1\")\n",
    "            if freeze_backbone:\n",
    "                self.freeze_backbone()\n",
    "            num_ftrs = self.backbone.fc.in_features\n",
    "            self.backbone.fc = self.get_clf_head(num_ftrs, 1, bias_value)\n",
    "        elif model_name == \"convnext_tiny\":\n",
    "            self.backbone = models.convnext_tiny(weights=\"IMAGENET1K_V1\")\n",
    "            if freeze_backbone:\n",
    "                self.freeze_backbone()\n",
    "            num_ftrs = self.backbone.classifier[2].in_features\n",
    "            self.backbone.classifier[2] = self.get_clf_head(num_ftrs, 1, bias_value)\n",
    "        elif model_name == \"efficientnet_v2_s\":\n",
    "            self.backbone = models.efficientnet_v2_s(weights=\"IMAGENET1K_V1\")\n",
    "            if freeze_backbone:\n",
    "                self.freeze_backbone()\n",
    "            num_ftrs = self.backbone.classifier[1].in_features\n",
    "            self.backbone.classifier[1] = self.get_clf_head(num_ftrs, 1, bias_value)\n",
    "        elif model_name == \"efficientnet_v2_m\":\n",
    "            self.backbone = models.efficientnet_v2_m(weights=\"IMAGENET1K_V1\")\n",
    "            if freeze_backbone:\n",
    "                self.freeze_backbone()\n",
    "            num_ftrs = self.backbone.classifier[1].in_features\n",
    "            self.backbone.classifier[1] = self.get_clf_head(num_ftrs, 1, bias_value)\n",
    "        elif model_name == \"mobilenet_v3_small\":\n",
    "            self.backbone = models.mobilenet_v3_small(weights=\"IMAGENET1K_V1\")\n",
    "            if freeze_backbone:\n",
    "                self.freeze_backbone()\n",
    "            num_ftrs = self.backbone.classifier[3].in_features\n",
    "            self.backbone.classifier[3] = self.get_clf_head(num_ftrs, 1, bias_value)\n",
    "        else:\n",
    "            raise ValueError(f\"Model {model_name} not supported\")\n",
    "\n",
    "    def forward(self, x):\n",
    "        return self.backbone(x)\n",
    "\n",
    "    def freeze_backbone(self):\n",
    "        for param in self.backbone.parameters():\n",
    "            param.requires_grad = False\n",
    "\n",
    "    def get_clf_head(self, in_features, out_features, bias_value=None):\n",
    "        head = nn.Linear(in_features, out_features)\n",
    "        if bias_value:\n",
    "            nn.init.constant_(head.bias, bias_value)\n",
    "        return head\n",
    "\n",
    "    def count_parameters(self):\n",
    "        trainable_params = sum(p.numel() for p in self.parameters() if p.requires_grad)\n",
    "        non_trainable_params = sum(\n",
    "            p.numel() for p in self.parameters() if not p.requires_grad\n",
    "        )\n",
    "        return trainable_params, non_trainable_params"
   ]
  },
  {
   "cell_type": "code",
   "execution_count": 8,
   "metadata": {},
   "outputs": [
    {
     "name": "stderr",
     "output_type": "stream",
     "text": [
      "/tmp/ipykernel_2479479/1298217658.py:9: FutureWarning: You are using `torch.load` with `weights_only=False` (the current default value), which uses the default pickle module implicitly. It is possible to construct malicious pickle data which will execute arbitrary code during unpickling (See https://github.com/pytorch/pytorch/blob/main/SECURITY.md#untrusted-models for more details). In a future release, the default value for `weights_only` will be flipped to `True`. This limits the functions that could be executed during unpickling. Arbitrary objects will no longer be allowed to be loaded via this mode unless they are explicitly allowlisted by the user via `torch.serialization.add_safe_globals`. We recommend you start setting `weights_only=True` for any use case where you don't have full control of the loaded file. Please open an issue on GitHub for any issues related to this experimental feature.\n",
      "  state_dict = torch.load(PATH, map_location=device)\n"
     ]
    },
    {
     "data": {
      "text/plain": [
       "<All keys matched successfully>"
      ]
     },
     "execution_count": 8,
     "metadata": {},
     "output_type": "execute_result"
    }
   ],
   "source": [
    "# PATH = \"/home/ubuntu/ayusht/skin/models/efficientnet_v2_s_g6mbhxvy_valid_loss5.4755730628967285_epoch22.bin\"\n",
    "PATH = \"/home/ubuntu/ayusht/skin/models/efficientnet_v2_s_x8dbzy5x_valid_loss0.36058661341667175_epoch9.bin\"\n",
    "\n",
    "model = SkinClassifier(\n",
    "    model_name=\"efficientnet_v2_s\", freeze_backbone=True,\n",
    ")\n",
    "model = model.to(device)\n",
    "model = torch.compile(model)\n",
    "state_dict = torch.load(PATH, map_location=device)\n",
    "model.load_state_dict(state_dict)"
   ]
  },
  {
   "cell_type": "code",
   "execution_count": 11,
   "metadata": {},
   "outputs": [],
   "source": [
    "@torch.inference_mode()\n",
    "def infer_model(model, dataloader):\n",
    "    model.eval()\n",
    "\n",
    "    preds = []\n",
    "    gts = []\n",
    "\n",
    "    for inputs, labels in tqdm(dataloader):\n",
    "        inputs = inputs.to(device)\n",
    "        labels = labels.to(device).flatten()\n",
    "\n",
    "        with torch.no_grad():\n",
    "            outputs = model(inputs).flatten()\n",
    "            preds.extend(torch.sigmoid(outputs))\n",
    "            gts.extend(labels)\n",
    "\n",
    "    preds = [pred.item() for pred in preds]\n",
    "    gts = [gt.item() for gt in gts]\n",
    "\n",
    "    return preds, gts"
   ]
  },
  {
   "cell_type": "code",
   "execution_count": 12,
   "metadata": {},
   "outputs": [],
   "source": [
    "def comp_score(solution: pd.DataFrame, submission: pd.DataFrame, row_id_column_name: str, min_tpr: float=0.80):\n",
    "    v_gt = abs(np.asarray(solution.values)-1)\n",
    "    v_pred = np.array([1.0 - x for x in submission.values])\n",
    "    max_fpr = abs(1-min_tpr)\n",
    "    partial_auc_scaled = roc_auc_score(v_gt, v_pred, max_fpr=max_fpr)\n",
    "    # change scale from [0.5, 1.0] to [0.5 * max_fpr**2, max_fpr]\n",
    "    # https://math.stackexchange.com/questions/914823/shift-numbers-into-a-different-range\n",
    "    partial_auc = 0.5 * max_fpr**2 + (max_fpr - 0.5 * max_fpr**2) / (1.0 - 0.5) * (partial_auc_scaled - 0.5)\n",
    "    return partial_auc"
   ]
  },
  {
   "cell_type": "code",
   "execution_count": 13,
   "metadata": {},
   "outputs": [
    {
     "name": "stderr",
     "output_type": "stream",
     "text": [
      "  0%|          | 0/627 [00:00<?, ?it/s]/home/ubuntu/.local/lib/python3.10/site-packages/torch/_inductor/compile_fx.py:150: UserWarning: TensorFloat32 tensor cores for float32 matrix multiplication available but not enabled. Consider setting `torch.set_float32_matmul_precision('high')` for better performance.\n",
      "  warnings.warn(\n",
      "100%|██████████| 627/627 [00:58<00:00, 10.68it/s]\n"
     ]
    }
   ],
   "source": [
    "preds, gts = infer_model(model, valid_dataloader)"
   ]
  },
  {
   "cell_type": "code",
   "execution_count": 64,
   "metadata": {},
   "outputs": [
    {
     "data": {
      "text/plain": [
       "0.05993466584694511"
      ]
     },
     "execution_count": 64,
     "metadata": {},
     "output_type": "execute_result"
    }
   ],
   "source": [
    "# Path 1\n",
    "comp_score(\n",
    "    pd.DataFrame(gts, columns=[\"target\"]),\n",
    "    pd.DataFrame(preds, columns=[\"prediction\"]),\n",
    "    \"\"\n",
    ")"
   ]
  },
  {
   "cell_type": "code",
   "execution_count": 14,
   "metadata": {},
   "outputs": [
    {
     "data": {
      "text/plain": [
       "0.06894444612338012"
      ]
     },
     "execution_count": 14,
     "metadata": {},
     "output_type": "execute_result"
    }
   ],
   "source": [
    "# Path 2\n",
    "comp_score(\n",
    "    pd.DataFrame(gts, columns=[\"target\"]),\n",
    "    pd.DataFrame(preds, columns=[\"prediction\"]),\n",
    "    \"\"\n",
    ")"
   ]
  },
  {
   "cell_type": "code",
   "execution_count": null,
   "metadata": {},
   "outputs": [],
   "source": []
  }
 ],
 "metadata": {
  "kernelspec": {
   "display_name": "skin",
   "language": "python",
   "name": "python3"
  },
  "language_info": {
   "codemirror_mode": {
    "name": "ipython",
    "version": 3
   },
   "file_extension": ".py",
   "mimetype": "text/x-python",
   "name": "python",
   "nbconvert_exporter": "python",
   "pygments_lexer": "ipython3",
   "version": "3.10.12"
  }
 },
 "nbformat": 4,
 "nbformat_minor": 2
}
