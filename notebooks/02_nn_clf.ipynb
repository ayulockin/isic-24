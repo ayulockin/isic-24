{
 "cells": [
  {
   "cell_type": "code",
   "execution_count": 1,
   "metadata": {},
   "outputs": [],
   "source": [
    "%load_ext autoreload\n",
    "%autoreload 2"
   ]
  },
  {
   "cell_type": "code",
   "execution_count": 2,
   "metadata": {},
   "outputs": [
    {
     "name": "stdout",
     "output_type": "stream",
     "text": [
      "30\n"
     ]
    },
    {
     "name": "stdout",
     "output_type": "stream",
     "text": [
      "Using cuda device\n"
     ]
    }
   ],
   "source": [
    "import os\n",
    "print(os.cpu_count())\n",
    "\n",
    "import copy\n",
    "import wandb\n",
    "import pandas as pd\n",
    "import numpy as np\n",
    "from tqdm import tqdm\n",
    "import matplotlib.pyplot as plt\n",
    "\n",
    "import torch\n",
    "from torchvision.io import read_image\n",
    "from torch.utils.data import Dataset, DataLoader\n",
    "from torchvision import transforms\n",
    "import torch.optim as optim\n",
    "from torch import nn\n",
    "from torchvision.models import convnext_tiny, ConvNeXt_Tiny_Weights\n",
    "import torch.backends.cudnn as cudnn\n",
    "\n",
    "from torcheval.metrics.functional import binary_auroc\n",
    "\n",
    "from sklearn.metrics import roc_auc_score\n",
    "from sklearn.model_selection import StratifiedGroupKFold\n",
    "\n",
    "import albumentations as A\n",
    "from albumentations.pytorch import ToTensorV2\n",
    "\n",
    "device = (\n",
    "    \"cuda\"\n",
    "    if torch.cuda.is_available()\n",
    "    else \"mps\"\n",
    "    if torch.backends.mps.is_available()\n",
    "    else \"cpu\"\n",
    ")\n",
    "print(f\"Using {device} device\")\n",
    "\n",
    "cudnn.benchmark = True\n",
    "torch.set_float32_matmul_precision('high')"
   ]
  },
  {
   "cell_type": "code",
   "execution_count": 3,
   "metadata": {},
   "outputs": [
    {
     "name": "stderr",
     "output_type": "stream",
     "text": [
      "/tmp/ipykernel_1098766/1021984421.py:10: DtypeWarning: Columns (51,52) have mixed types. Specify dtype option on import or set low_memory=False.\n",
      "  train_metadata_df = pd.read_csv(\"../data/stratified_5_fold_train_metadata.csv\")\n"
     ]
    },
    {
     "name": "stdout",
     "output_type": "stream",
     "text": [
      "target\n",
      "0    80134\n",
      "1       77\n",
      "Name: count, dtype: int64\n",
      "target\n",
      "0    80133\n",
      "1       83\n",
      "Name: count, dtype: int64\n",
      "target\n",
      "0    80133\n",
      "1       78\n",
      "Name: count, dtype: int64\n",
      "target\n",
      "0    80133\n",
      "1       78\n",
      "Name: count, dtype: int64\n",
      "target\n",
      "0    80133\n",
      "1       77\n",
      "Name: count, dtype: int64\n"
     ]
    }
   ],
   "source": [
    "\n",
    "# train_metadata_df = pd.read_csv(\"../data/train-metadata.csv\")\n",
    "# print(len(train_metadata_df))\n",
    "\n",
    "# gkf = StratifiedGroupKFold(n_splits=5) # , shuffle=True, random_state=42\n",
    "\n",
    "# train_metadata_df[\"fold\"] = -1\n",
    "# for idx, (train_idx, val_idx) in enumerate(gkf.split(train_metadata_df, train_metadata_df[\"target\"], groups=train_metadata_df[\"patient_id\"])):\n",
    "#     train_metadata_df.loc[val_idx, \"fold\"] = idx\n",
    "\n",
    "train_metadata_df = pd.read_csv(\"../data/stratified_5_fold_train_metadata.csv\")\n",
    "\n",
    "print(train_metadata_df.loc[train_metadata_df.fold == 0].target.value_counts())\n",
    "print(train_metadata_df.loc[train_metadata_df.fold == 1].target.value_counts())\n",
    "print(train_metadata_df.loc[train_metadata_df.fold == 2].target.value_counts())\n",
    "print(train_metadata_df.loc[train_metadata_df.fold == 3].target.value_counts())\n",
    "print(train_metadata_df.loc[train_metadata_df.fold == 4].target.value_counts())"
   ]
  },
  {
   "cell_type": "markdown",
   "metadata": {},
   "source": [
    "## Dataloader"
   ]
  },
  {
   "cell_type": "code",
   "execution_count": 4,
   "metadata": {},
   "outputs": [],
   "source": [
    "def add_path(row):\n",
    "    return f\"../data/train-image/image/{row.isic_id}.jpg\"\n",
    "\n",
    "train_metadata_df[\"path\"] = train_metadata_df.apply(lambda row: add_path(row), axis=1)"
   ]
  },
  {
   "cell_type": "code",
   "execution_count": 5,
   "metadata": {},
   "outputs": [],
   "source": [
    "class SkinDataset(Dataset):\n",
    "    def __init__(self, df: pd.DataFrame, transform=None, target_transform=None):\n",
    "        assert \"path\" in df.columns\n",
    "        assert \"target\" in df.columns\n",
    "\n",
    "        self.paths = df.path.tolist()\n",
    "        self.labels = df.target.tolist() # binary\n",
    "        self.transform = transform\n",
    "        self.target_transform = target_transform\n",
    "\n",
    "    def __len__(self):\n",
    "        return len(self.paths)\n",
    "\n",
    "    def __getitem__(self, idx: int):\n",
    "        image = read_image(self.paths[idx]).to(torch.float32) / 255.0\n",
    "        label = self.labels[idx] / 1.0\n",
    "        if self.transform:\n",
    "            image = image.numpy().transpose((1,2,0))\n",
    "            image = self.transform(image=image)[\"image\"]\n",
    "        if self.target_transform:\n",
    "            label = self.target_transform(label)\n",
    "        return image, label\n",
    "\n",
    "    def get_class_samples(self, class_label):\n",
    "        indices = [i for i, label in enumerate(self.labels) if label == class_label]\n",
    "        return indices"
   ]
  },
  {
   "cell_type": "code",
   "execution_count": 6,
   "metadata": {},
   "outputs": [],
   "source": [
    "data_transforms = {\n",
    "    \"train\": A.Compose(\n",
    "        [\n",
    "            A.Resize(224, 224),\n",
    "            A.RandomRotate90(p=0.5),\n",
    "            A.Flip(p=0.5),\n",
    "            A.Downscale(p=0.25),\n",
    "            A.ShiftScaleRotate(\n",
    "                shift_limit=0.1, scale_limit=0.15, rotate_limit=60, p=0.5\n",
    "            ),\n",
    "            A.HueSaturationValue(\n",
    "                hue_shift_limit=0.2, sat_shift_limit=0.2, val_shift_limit=0.2, p=0.5\n",
    "            ),\n",
    "            A.RandomBrightnessContrast(\n",
    "                brightness_limit=(-0.1, 0.1), contrast_limit=(-0.1, 0.1), p=0.5\n",
    "            ),\n",
    "            A.Normalize(\n",
    "                mean=[0.485, 0.456, 0.406],\n",
    "                std=[0.229, 0.224, 0.225],\n",
    "                max_pixel_value=255.0,\n",
    "                p=1.0,\n",
    "            ),\n",
    "            ToTensorV2(),\n",
    "        ],\n",
    "        p=1.0,\n",
    "    ),\n",
    "    \"valid\": A.Compose(\n",
    "        [\n",
    "            A.Resize(224, 224),\n",
    "            A.Normalize(\n",
    "                mean=[0.485, 0.456, 0.406],\n",
    "                std=[0.229, 0.224, 0.225],\n",
    "                max_pixel_value=255.0,\n",
    "                p=1.0,\n",
    "            ),\n",
    "            ToTensorV2(),\n",
    "        ],\n",
    "        p=1.0,\n",
    "    ),\n",
    "}"
   ]
  },
  {
   "cell_type": "code",
   "execution_count": 7,
   "metadata": {},
   "outputs": [
    {
     "data": {
      "text/plain": [
       "{'train': 80211, 'val': 80216}"
      ]
     },
     "execution_count": 7,
     "metadata": {},
     "output_type": "execute_result"
    }
   ],
   "source": [
    "train_df = train_metadata_df.loc[train_metadata_df.fold == 0] # using a subset for training\n",
    "valid_df = train_metadata_df.loc[train_metadata_df.fold == 1] # using another fold for validation\n",
    "\n",
    "num_workers = 24 # based on profiling\n",
    "\n",
    "train_dataset = SkinDataset(train_df, transform=data_transforms[\"train\"])\n",
    "train_dataloader = DataLoader(train_dataset, batch_size=128, shuffle=True, num_workers=num_workers, pin_memory=True, persistent_workers=True, drop_last=True)\n",
    "\n",
    "valid_dataset = SkinDataset(valid_df, transform=data_transforms[\"valid\"])\n",
    "valid_dataloader = DataLoader(valid_dataset, batch_size=128, shuffle=False, num_workers=num_workers, pin_memory=True, persistent_workers=True, drop_last=True)\n",
    "\n",
    "dataset_sizes = {\"train\": len(train_dataset), \"val\": len(valid_dataset)}\n",
    "dataset_sizes"
   ]
  },
  {
   "cell_type": "markdown",
   "metadata": {},
   "source": [
    "### Investigating the Dataloader more\n",
    "\n",
    "doing on the full dataset"
   ]
  },
  {
   "cell_type": "code",
   "execution_count": 8,
   "metadata": {},
   "outputs": [
    {
     "data": {
      "image/png": "[encoded data removed]",
      "text/plain": [
       "<Figure size 2000x600 with 1 Axes>"
      ]
     },
     "metadata": {},
     "output_type": "display_data"
    }
   ],
   "source": [
    "import torch\n",
    "from torch.utils.data import DataLoader, Dataset\n",
    "import matplotlib.pyplot as plt\n",
    "\n",
    "# Lists to store the counts of each class per batch\n",
    "batch_class_counts_0 = []\n",
    "batch_class_counts_1 = []\n",
    "\n",
    "# Iterate over the dataloader\n",
    "for batch_idx, (data, labels) in enumerate(train_dataloader):\n",
    "    class_0_count = (labels == 0).sum().item()\n",
    "    class_1_count = (labels == 1).sum().item()\n",
    "    batch_class_counts_0.append(class_0_count)\n",
    "    batch_class_counts_1.append(class_1_count)\n",
    "\n",
    "# Plot the distribution using bar chart\n",
    "batch_indices = range(len(batch_class_counts_0[:50]))\n",
    "width = 0.35  # width of the bars\n",
    "\n",
    "plt.figure(figsize=(20, 6))\n",
    "plt.bar(batch_indices, batch_class_counts_0[:50], width, label='Class 0 (Negative)', color='b')\n",
    "plt.bar([i + width for i in batch_indices], batch_class_counts_1[:50], width, label='Class 1 (Positive)', color='r')\n",
    "\n",
    "plt.xlabel('Batch Index')\n",
    "plt.ylabel('Number of Samples')\n",
    "plt.title('Class Distribution per Batch')\n",
    "plt.legend()\n",
    "plt.xticks([i + width / 2 for i in batch_indices], batch_indices)\n",
    "plt.show()"
   ]
  },
  {
   "cell_type": "code",
   "execution_count": 9,
   "metadata": {},
   "outputs": [
    {
     "name": "stdout",
     "output_type": "stream",
     "text": [
      "80134 77\n",
      "1.2479097511667955e-05 0.012987012987012988\n"
     ]
    }
   ],
   "source": [
    "neg_samples = len(train_dataloader.dataset.get_class_samples(0))\n",
    "pos_samples = len(train_dataloader.dataset.get_class_samples(1))\n",
    "print(neg_samples, pos_samples)\n",
    "\n",
    "neg_wts = 1 / neg_samples\n",
    "pos_wts = 1 / pos_samples\n",
    "print(neg_wts, pos_wts)"
   ]
  },
  {
   "cell_type": "code",
   "execution_count": 10,
   "metadata": {},
   "outputs": [
    {
     "data": {
      "text/plain": [
       "80211"
      ]
     },
     "execution_count": 10,
     "metadata": {},
     "output_type": "execute_result"
    }
   ],
   "source": [
    "sample_wts = []\n",
    "\n",
    "for label in train_dataset.labels:\n",
    "    if label == 0:\n",
    "        sample_wts.append(neg_wts)\n",
    "    else:\n",
    "        sample_wts.append(pos_wts)\n",
    "\n",
    "len(sample_wts)"
   ]
  },
  {
   "cell_type": "code",
   "execution_count": 11,
   "metadata": {},
   "outputs": [],
   "source": [
    "from torch.utils.data import WeightedRandomSampler\n",
    "\n",
    "sampler = WeightedRandomSampler(weights=sample_wts, num_samples=len(train_dataset), replacement=True)\n",
    "wt_train_dataloader = DataLoader(\n",
    "    train_dataset, sampler=sampler, batch_size=128, shuffle=False, num_workers=num_workers, pin_memory=True, persistent_workers=True, drop_last=True\n",
    ")"
   ]
  },
  {
   "cell_type": "code",
   "execution_count": 12,
   "metadata": {},
   "outputs": [
    {
     "data": {
      "image/png": "[encoded data removed]",
      "text/plain": [
       "<Figure size 2000x600 with 1 Axes>"
      ]
     },
     "metadata": {},
     "output_type": "display_data"
    }
   ],
   "source": [
    "import torch\n",
    "from torch.utils.data import DataLoader, Dataset\n",
    "import matplotlib.pyplot as plt\n",
    "\n",
    "# Lists to store the counts of each class per batch\n",
    "wt_batch_class_counts_0 = []\n",
    "wt_batch_class_counts_1 = []\n",
    "\n",
    "# Iterate over the dataloader\n",
    "for batch_idx, (data, labels) in enumerate(wt_train_dataloader):\n",
    "    class_0_count = (labels == 0).sum().item()\n",
    "    class_1_count = (labels == 1).sum().item()\n",
    "    wt_batch_class_counts_0.append(class_0_count)\n",
    "    wt_batch_class_counts_1.append(class_1_count)\n",
    "\n",
    "# Plot the distribution using bar chart\n",
    "batch_indices = range(len(wt_batch_class_counts_0[:50]))\n",
    "width = 0.35  # width of the bars\n",
    "\n",
    "plt.figure(figsize=(20, 6))\n",
    "plt.bar(batch_indices, wt_batch_class_counts_0[:50], width, label='Class 0 (Negative)', color='b')\n",
    "plt.bar([i + width for i in batch_indices], wt_batch_class_counts_1[:50], width, label='Class 1 (Positive)', color='r')\n",
    "\n",
    "plt.xlabel('Batch Index')\n",
    "plt.ylabel('Number of Samples')\n",
    "plt.title('Class Distribution per Batch')\n",
    "plt.legend()\n",
    "plt.xticks([i + width / 2 for i in batch_indices], batch_indices)\n",
    "plt.show()"
   ]
  },
  {
   "cell_type": "markdown",
   "metadata": {},
   "source": [
    "> highly imbalanced - most batches will not see any positive image; need special handling."
   ]
  },
  {
   "cell_type": "markdown",
   "metadata": {},
   "source": [
    "### Let's visualize the positive samples."
   ]
  },
  {
   "cell_type": "code",
   "execution_count": null,
   "metadata": {},
   "outputs": [],
   "source": [
    "# from torch.utils.data import Subset\n",
    "\n",
    "\n",
    "# pos_sample_indices = dataset.get_class_samples(1)\n",
    "# print(\"Number of positive samples: \", len(pos_sample_indices))\n",
    "\n",
    "# pos_subset_dataset = Subset(dataset, pos_sample_indices)\n",
    "\n",
    "# run = wandb.init(project=\"isic_lesions_24\")\n",
    "\n",
    "# pos_table = wandb.Table(columns=[\"image\", \"label\"])\n",
    "# for img, label in iter(pos_subset_dataset):\n",
    "#     img = img.numpy().transpose((1, 2, 0))\n",
    "#     pos_table.add_data(\n",
    "#         wandb.Image(img),\n",
    "#         label,\n",
    "#     )\n",
    "\n",
    "# run.log({\"AlL Positive Skin Cancer Samples\": pos_table})\n",
    "\n",
    "# run.finish()"
   ]
  },
  {
   "cell_type": "markdown",
   "metadata": {},
   "source": [
    "## Model"
   ]
  },
  {
   "cell_type": "code",
   "execution_count": 8,
   "metadata": {},
   "outputs": [
    {
     "data": {
      "text/plain": [
       "OptimizedModule(\n",
       "  (_orig_mod): ConvNeXt(\n",
       "    (features): Sequential(\n",
       "      (0): Conv2dNormActivation(\n",
       "        (0): Conv2d(3, 96, kernel_size=(4, 4), stride=(4, 4))\n",
       "        (1): LayerNorm2d((96,), eps=1e-06, elementwise_affine=True)\n",
       "      )\n",
       "      (1): Sequential(\n",
       "        (0): CNBlock(\n",
       "          (block): Sequential(\n",
       "            (0): Conv2d(96, 96, kernel_size=(7, 7), stride=(1, 1), padding=(3, 3), groups=96)\n",
       "            (1): Permute()\n",
       "            (2): LayerNorm((96,), eps=1e-06, elementwise_affine=True)\n",
       "            (3): Linear(in_features=96, out_features=384, bias=True)\n",
       "            (4): GELU(approximate='none')\n",
       "            (5): Linear(in_features=384, out_features=96, bias=True)\n",
       "            (6): Permute()\n",
       "          )\n",
       "          (stochastic_depth): StochasticDepth(p=0.0, mode=row)\n",
       "        )\n",
       "        (1): CNBlock(\n",
       "          (block): Sequential(\n",
       "            (0): Conv2d(96, 96, kernel_size=(7, 7), stride=(1, 1), padding=(3, 3), groups=96)\n",
       "            (1): Permute()\n",
       "            (2): LayerNorm((96,), eps=1e-06, elementwise_affine=True)\n",
       "            (3): Linear(in_features=96, out_features=384, bias=True)\n",
       "            (4): GELU(approximate='none')\n",
       "            (5): Linear(in_features=384, out_features=96, bias=True)\n",
       "            (6): Permute()\n",
       "          )\n",
       "          (stochastic_depth): StochasticDepth(p=0.0058823529411764705, mode=row)\n",
       "        )\n",
       "        (2): CNBlock(\n",
       "          (block): Sequential(\n",
       "            (0): Conv2d(96, 96, kernel_size=(7, 7), stride=(1, 1), padding=(3, 3), groups=96)\n",
       "            (1): Permute()\n",
       "            (2): LayerNorm((96,), eps=1e-06, elementwise_affine=True)\n",
       "            (3): Linear(in_features=96, out_features=384, bias=True)\n",
       "            (4): GELU(approximate='none')\n",
       "            (5): Linear(in_features=384, out_features=96, bias=True)\n",
       "            (6): Permute()\n",
       "          )\n",
       "          (stochastic_depth): StochasticDepth(p=0.011764705882352941, mode=row)\n",
       "        )\n",
       "      )\n",
       "      (2): Sequential(\n",
       "        (0): LayerNorm2d((96,), eps=1e-06, elementwise_affine=True)\n",
       "        (1): Conv2d(96, 192, kernel_size=(2, 2), stride=(2, 2))\n",
       "      )\n",
       "      (3): Sequential(\n",
       "        (0): CNBlock(\n",
       "          (block): Sequential(\n",
       "            (0): Conv2d(192, 192, kernel_size=(7, 7), stride=(1, 1), padding=(3, 3), groups=192)\n",
       "            (1): Permute()\n",
       "            (2): LayerNorm((192,), eps=1e-06, elementwise_affine=True)\n",
       "            (3): Linear(in_features=192, out_features=768, bias=True)\n",
       "            (4): GELU(approximate='none')\n",
       "            (5): Linear(in_features=768, out_features=192, bias=True)\n",
       "            (6): Permute()\n",
       "          )\n",
       "          (stochastic_depth): StochasticDepth(p=0.017647058823529415, mode=row)\n",
       "        )\n",
       "        (1): CNBlock(\n",
       "          (block): Sequential(\n",
       "            (0): Conv2d(192, 192, kernel_size=(7, 7), stride=(1, 1), padding=(3, 3), groups=192)\n",
       "            (1): Permute()\n",
       "            (2): LayerNorm((192,), eps=1e-06, elementwise_affine=True)\n",
       "            (3): Linear(in_features=192, out_features=768, bias=True)\n",
       "            (4): GELU(approximate='none')\n",
       "            (5): Linear(in_features=768, out_features=192, bias=True)\n",
       "            (6): Permute()\n",
       "          )\n",
       "          (stochastic_depth): StochasticDepth(p=0.023529411764705882, mode=row)\n",
       "        )\n",
       "        (2): CNBlock(\n",
       "          (block): Sequential(\n",
       "            (0): Conv2d(192, 192, kernel_size=(7, 7), stride=(1, 1), padding=(3, 3), groups=192)\n",
       "            (1): Permute()\n",
       "            (2): LayerNorm((192,), eps=1e-06, elementwise_affine=True)\n",
       "            (3): Linear(in_features=192, out_features=768, bias=True)\n",
       "            (4): GELU(approximate='none')\n",
       "            (5): Linear(in_features=768, out_features=192, bias=True)\n",
       "            (6): Permute()\n",
       "          )\n",
       "          (stochastic_depth): StochasticDepth(p=0.029411764705882353, mode=row)\n",
       "        )\n",
       "      )\n",
       "      (4): Sequential(\n",
       "        (0): LayerNorm2d((192,), eps=1e-06, elementwise_affine=True)\n",
       "        (1): Conv2d(192, 384, kernel_size=(2, 2), stride=(2, 2))\n",
       "      )\n",
       "      (5): Sequential(\n",
       "        (0): CNBlock(\n",
       "          (block): Sequential(\n",
       "            (0): Conv2d(384, 384, kernel_size=(7, 7), stride=(1, 1), padding=(3, 3), groups=384)\n",
       "            (1): Permute()\n",
       "            (2): LayerNorm((384,), eps=1e-06, elementwise_affine=True)\n",
       "            (3): Linear(in_features=384, out_features=1536, bias=True)\n",
       "            (4): GELU(approximate='none')\n",
       "            (5): Linear(in_features=1536, out_features=384, bias=True)\n",
       "            (6): Permute()\n",
       "          )\n",
       "          (stochastic_depth): StochasticDepth(p=0.03529411764705883, mode=row)\n",
       "        )\n",
       "        (1): CNBlock(\n",
       "          (block): Sequential(\n",
       "            (0): Conv2d(384, 384, kernel_size=(7, 7), stride=(1, 1), padding=(3, 3), groups=384)\n",
       "            (1): Permute()\n",
       "            (2): LayerNorm((384,), eps=1e-06, elementwise_affine=True)\n",
       "            (3): Linear(in_features=384, out_features=1536, bias=True)\n",
       "            (4): GELU(approximate='none')\n",
       "            (5): Linear(in_features=1536, out_features=384, bias=True)\n",
       "            (6): Permute()\n",
       "          )\n",
       "          (stochastic_depth): StochasticDepth(p=0.0411764705882353, mode=row)\n",
       "        )\n",
       "        (2): CNBlock(\n",
       "          (block): Sequential(\n",
       "            (0): Conv2d(384, 384, kernel_size=(7, 7), stride=(1, 1), padding=(3, 3), groups=384)\n",
       "            (1): Permute()\n",
       "            (2): LayerNorm((384,), eps=1e-06, elementwise_affine=True)\n",
       "            (3): Linear(in_features=384, out_features=1536, bias=True)\n",
       "            (4): GELU(approximate='none')\n",
       "            (5): Linear(in_features=1536, out_features=384, bias=True)\n",
       "            (6): Permute()\n",
       "          )\n",
       "          (stochastic_depth): StochasticDepth(p=0.047058823529411764, mode=row)\n",
       "        )\n",
       "        (3): CNBlock(\n",
       "          (block): Sequential(\n",
       "            (0): Conv2d(384, 384, kernel_size=(7, 7), stride=(1, 1), padding=(3, 3), groups=384)\n",
       "            (1): Permute()\n",
       "            (2): LayerNorm((384,), eps=1e-06, elementwise_affine=True)\n",
       "            (3): Linear(in_features=384, out_features=1536, bias=True)\n",
       "            (4): GELU(approximate='none')\n",
       "            (5): Linear(in_features=1536, out_features=384, bias=True)\n",
       "            (6): Permute()\n",
       "          )\n",
       "          (stochastic_depth): StochasticDepth(p=0.052941176470588235, mode=row)\n",
       "        )\n",
       "        (4): CNBlock(\n",
       "          (block): Sequential(\n",
       "            (0): Conv2d(384, 384, kernel_size=(7, 7), stride=(1, 1), padding=(3, 3), groups=384)\n",
       "            (1): Permute()\n",
       "            (2): LayerNorm((384,), eps=1e-06, elementwise_affine=True)\n",
       "            (3): Linear(in_features=384, out_features=1536, bias=True)\n",
       "            (4): GELU(approximate='none')\n",
       "            (5): Linear(in_features=1536, out_features=384, bias=True)\n",
       "            (6): Permute()\n",
       "          )\n",
       "          (stochastic_depth): StochasticDepth(p=0.058823529411764705, mode=row)\n",
       "        )\n",
       "        (5): CNBlock(\n",
       "          (block): Sequential(\n",
       "            (0): Conv2d(384, 384, kernel_size=(7, 7), stride=(1, 1), padding=(3, 3), groups=384)\n",
       "            (1): Permute()\n",
       "            (2): LayerNorm((384,), eps=1e-06, elementwise_affine=True)\n",
       "            (3): Linear(in_features=384, out_features=1536, bias=True)\n",
       "            (4): GELU(approximate='none')\n",
       "            (5): Linear(in_features=1536, out_features=384, bias=True)\n",
       "            (6): Permute()\n",
       "          )\n",
       "          (stochastic_depth): StochasticDepth(p=0.06470588235294118, mode=row)\n",
       "        )\n",
       "        (6): CNBlock(\n",
       "          (block): Sequential(\n",
       "            (0): Conv2d(384, 384, kernel_size=(7, 7), stride=(1, 1), padding=(3, 3), groups=384)\n",
       "            (1): Permute()\n",
       "            (2): LayerNorm((384,), eps=1e-06, elementwise_affine=True)\n",
       "            (3): Linear(in_features=384, out_features=1536, bias=True)\n",
       "            (4): GELU(approximate='none')\n",
       "            (5): Linear(in_features=1536, out_features=384, bias=True)\n",
       "            (6): Permute()\n",
       "          )\n",
       "          (stochastic_depth): StochasticDepth(p=0.07058823529411766, mode=row)\n",
       "        )\n",
       "        (7): CNBlock(\n",
       "          (block): Sequential(\n",
       "            (0): Conv2d(384, 384, kernel_size=(7, 7), stride=(1, 1), padding=(3, 3), groups=384)\n",
       "            (1): Permute()\n",
       "            (2): LayerNorm((384,), eps=1e-06, elementwise_affine=True)\n",
       "            (3): Linear(in_features=384, out_features=1536, bias=True)\n",
       "            (4): GELU(approximate='none')\n",
       "            (5): Linear(in_features=1536, out_features=384, bias=True)\n",
       "            (6): Permute()\n",
       "          )\n",
       "          (stochastic_depth): StochasticDepth(p=0.07647058823529412, mode=row)\n",
       "        )\n",
       "        (8): CNBlock(\n",
       "          (block): Sequential(\n",
       "            (0): Conv2d(384, 384, kernel_size=(7, 7), stride=(1, 1), padding=(3, 3), groups=384)\n",
       "            (1): Permute()\n",
       "            (2): LayerNorm((384,), eps=1e-06, elementwise_affine=True)\n",
       "            (3): Linear(in_features=384, out_features=1536, bias=True)\n",
       "            (4): GELU(approximate='none')\n",
       "            (5): Linear(in_features=1536, out_features=384, bias=True)\n",
       "            (6): Permute()\n",
       "          )\n",
       "          (stochastic_depth): StochasticDepth(p=0.0823529411764706, mode=row)\n",
       "        )\n",
       "      )\n",
       "      (6): Sequential(\n",
       "        (0): LayerNorm2d((384,), eps=1e-06, elementwise_affine=True)\n",
       "        (1): Conv2d(384, 768, kernel_size=(2, 2), stride=(2, 2))\n",
       "      )\n",
       "      (7): Sequential(\n",
       "        (0): CNBlock(\n",
       "          (block): Sequential(\n",
       "            (0): Conv2d(768, 768, kernel_size=(7, 7), stride=(1, 1), padding=(3, 3), groups=768)\n",
       "            (1): Permute()\n",
       "            (2): LayerNorm((768,), eps=1e-06, elementwise_affine=True)\n",
       "            (3): Linear(in_features=768, out_features=3072, bias=True)\n",
       "            (4): GELU(approximate='none')\n",
       "            (5): Linear(in_features=3072, out_features=768, bias=True)\n",
       "            (6): Permute()\n",
       "          )\n",
       "          (stochastic_depth): StochasticDepth(p=0.08823529411764706, mode=row)\n",
       "        )\n",
       "        (1): CNBlock(\n",
       "          (block): Sequential(\n",
       "            (0): Conv2d(768, 768, kernel_size=(7, 7), stride=(1, 1), padding=(3, 3), groups=768)\n",
       "            (1): Permute()\n",
       "            (2): LayerNorm((768,), eps=1e-06, elementwise_affine=True)\n",
       "            (3): Linear(in_features=768, out_features=3072, bias=True)\n",
       "            (4): GELU(approximate='none')\n",
       "            (5): Linear(in_features=3072, out_features=768, bias=True)\n",
       "            (6): Permute()\n",
       "          )\n",
       "          (stochastic_depth): StochasticDepth(p=0.09411764705882353, mode=row)\n",
       "        )\n",
       "        (2): CNBlock(\n",
       "          (block): Sequential(\n",
       "            (0): Conv2d(768, 768, kernel_size=(7, 7), stride=(1, 1), padding=(3, 3), groups=768)\n",
       "            (1): Permute()\n",
       "            (2): LayerNorm((768,), eps=1e-06, elementwise_affine=True)\n",
       "            (3): Linear(in_features=768, out_features=3072, bias=True)\n",
       "            (4): GELU(approximate='none')\n",
       "            (5): Linear(in_features=3072, out_features=768, bias=True)\n",
       "            (6): Permute()\n",
       "          )\n",
       "          (stochastic_depth): StochasticDepth(p=0.1, mode=row)\n",
       "        )\n",
       "      )\n",
       "    )\n",
       "    (avgpool): AdaptiveAvgPool2d(output_size=1)\n",
       "    (classifier): Sequential(\n",
       "      (0): LayerNorm2d((768,), eps=1e-06, elementwise_affine=True)\n",
       "      (1): Flatten(start_dim=1, end_dim=-1)\n",
       "      (2): Linear(in_features=768, out_features=1, bias=False)\n",
       "    )\n",
       "  )\n",
       ")"
      ]
     },
     "execution_count": 8,
     "metadata": {},
     "output_type": "execute_result"
    }
   ],
   "source": [
    "model_ft = convnext_tiny(weights=ConvNeXt_Tiny_Weights.IMAGENET1K_V1)\n",
    "model_ft.classifier[2] = nn.Linear(model_ft.classifier[2].in_features, 1, bias=False)\n",
    "\n",
    "model_ft = model_ft.to(device)\n",
    "model_ft = torch.compile(model_ft)\n",
    "model_ft"
   ]
  },
  {
   "cell_type": "code",
   "execution_count": 9,
   "metadata": {},
   "outputs": [],
   "source": [
    "# criterion = nn.BCEWithLogitsLoss()\n",
    "# optimizer_ft = optim.Adam(model_ft.parameters(), lr=0.001, weight_decay=1e-6)\n",
    "\n",
    "\n",
    "from libauc.losses import AUCMLoss\n",
    "from libauc.optimizers import PESG\n",
    "\n",
    "criterion = AUCMLoss()\n",
    "optimizer_ft = PESG(\n",
    "    model_ft.parameters(),\n",
    "    loss_fn=criterion,\n",
    "    lr=0.001, \n",
    "    weight_decay=1e-5,\n",
    "    mode=\"sgd\",\n",
    ")"
   ]
  },
  {
   "cell_type": "code",
   "execution_count": 10,
   "metadata": {},
   "outputs": [],
   "source": [
    "def train_model(model, dataloader, criterion, optimizer, scheduler=None):\n",
    "    model.train()  # Set model to training mode\n",
    "\n",
    "    running_loss = 0.0\n",
    "    running_auroc = 0.0\n",
    "    batch_loss = []\n",
    "\n",
    "    for idx, (inputs, labels) in enumerate(dataloader):\n",
    "        inputs = inputs.to(device)\n",
    "        labels = labels.to(device).flatten()\n",
    "\n",
    "        optimizer.zero_grad()\n",
    "\n",
    "        with torch.set_grad_enabled(True):\n",
    "            outputs = model(inputs).flatten()\n",
    "            loss = criterion(outputs, labels)\n",
    "\n",
    "            loss.backward()\n",
    "            optimizer.step()\n",
    "\n",
    "        loss_val = loss.detach()\n",
    "        batch_loss.append(loss_val)\n",
    "        running_loss += loss_val * inputs.size(0)\n",
    "\n",
    "        auroc = binary_auroc(input=outputs, target=labels).item()\n",
    "        running_auroc += auroc * inputs.size(0)\n",
    "\n",
    "        if (idx + 1) % 100 == 0:\n",
    "            wandb.log({\"train_loss\": loss_val, \"train_auroc\": auroc})\n",
    "            print(f\"Train Batch Loss: {loss_val} | Train AUROC: {auroc}\")\n",
    "\n",
    "    epoch_loss = running_loss / dataset_sizes[\"train\"]\n",
    "    epoch_auroc = running_auroc / dataset_sizes[\"train\"]\n",
    "\n",
    "    return model, epoch_loss, epoch_auroc, batch_loss\n",
    "\n",
    "\n",
    "def validate_model(model, dataloader, criterion, optimizer):\n",
    "    model.eval()\n",
    "\n",
    "    running_loss = 0.0\n",
    "    running_auroc = 0.0\n",
    "    batch_loss = []\n",
    "\n",
    "    for idx, (inputs, labels) in enumerate(dataloader):\n",
    "        inputs = inputs.to(device)\n",
    "        labels = labels.to(device).flatten()\n",
    "\n",
    "        optimizer.zero_grad()\n",
    "\n",
    "        with torch.no_grad():\n",
    "            outputs = model(inputs).flatten()\n",
    "            loss = criterion(outputs, labels)\n",
    "\n",
    "        loss_val = loss.detach()\n",
    "        batch_loss.append(loss_val)\n",
    "        running_loss += loss_val * inputs.size(0)\n",
    "\n",
    "        auroc = binary_auroc(input=outputs, target=labels).item()\n",
    "        running_auroc += auroc * inputs.size(0)\n",
    "\n",
    "        if (idx + 1) % 100 == 0:\n",
    "            wandb.log({\"valid_loss\": loss_val, \"valid_auroc\": auroc})\n",
    "            print(f\"valid Batch Loss: {loss_val} | Valid AUROC: {auroc}\")\n",
    "\n",
    "    valid_loss = running_loss / dataset_sizes[\"val\"]\n",
    "    valid_auroc = running_auroc / dataset_sizes[\"val\"]\n",
    "\n",
    "    return model, valid_loss, valid_auroc, batch_loss"
   ]
  },
  {
   "cell_type": "code",
   "execution_count": 11,
   "metadata": {},
   "outputs": [
    {
     "name": "stderr",
     "output_type": "stream",
     "text": [
      "ERROR:wandb.jupyter:Failed to detect the name of this notebook, you can set it manually with the WANDB_NOTEBOOK_NAME environment variable to enable code saving.\n"
     ]
    },
    {
     "name": "stderr",
     "output_type": "stream",
     "text": [
      "\u001b[34m\u001b[1mwandb\u001b[0m: Currently logged in as: \u001b[33mayush-thakur\u001b[0m. Use \u001b[1m`wandb login --relogin`\u001b[0m to force relogin\n"
     ]
    },
    {
     "data": {
      "text/html": [
       "wandb version 0.17.5 is available!  To upgrade, please run:\n",
       " $ pip install wandb --upgrade"
      ],
      "text/plain": [
       "<IPython.core.display.HTML object>"
      ]
     },
     "metadata": {},
     "output_type": "display_data"
    },
    {
     "data": {
      "text/html": [
       "Tracking run with wandb version 0.17.4"
      ],
      "text/plain": [
       "<IPython.core.display.HTML object>"
      ]
     },
     "metadata": {},
     "output_type": "display_data"
    },
    {
     "data": {
      "text/html": [
       "Run data is saved locally in <code>/home/ubuntu/ayusht/skin/notebooks/wandb/run-20240721_095453-cavs0dqp</code>"
      ],
      "text/plain": [
       "<IPython.core.display.HTML object>"
      ]
     },
     "metadata": {},
     "output_type": "display_data"
    },
    {
     "data": {
      "text/html": [
       "Syncing run <strong><a href='https://wandb.ai/ayush-thakur/isic_lesions_24/runs/cavs0dqp' target=\"_blank\">dutiful-serenity-736</a></strong> to <a href='https://wandb.ai/ayush-thakur/isic_lesions_24' target=\"_blank\">Weights & Biases</a> (<a href='https://wandb.me/run' target=\"_blank\">docs</a>)<br/>"
      ],
      "text/plain": [
       "<IPython.core.display.HTML object>"
      ]
     },
     "metadata": {},
     "output_type": "display_data"
    },
    {
     "data": {
      "text/html": [
       " View project at <a href='https://wandb.ai/ayush-thakur/isic_lesions_24' target=\"_blank\">https://wandb.ai/ayush-thakur/isic_lesions_24</a>"
      ],
      "text/plain": [
       "<IPython.core.display.HTML object>"
      ]
     },
     "metadata": {},
     "output_type": "display_data"
    },
    {
     "data": {
      "text/html": [
       " View run at <a href='https://wandb.ai/ayush-thakur/isic_lesions_24/runs/cavs0dqp' target=\"_blank\">https://wandb.ai/ayush-thakur/isic_lesions_24/runs/cavs0dqp</a>"
      ],
      "text/plain": [
       "<IPython.core.display.HTML object>"
      ]
     },
     "metadata": {},
     "output_type": "display_data"
    },
    {
     "name": "stderr",
     "output_type": "stream",
     "text": [
      "/home/ubuntu/.local/lib/python3.10/site-packages/libauc/losses/auc.py:111: UserWarning: Input data has no positive sample! Please use 'libauc.sampler.DualSampler' for data resampling!\n",
      "  warnings.warn(\"Input data has no positive sample! Please use 'libauc.sampler.DualSampler' for data resampling!\", UserWarning)\n",
      "/home/ubuntu/.local/lib/python3.10/site-packages/libauc/losses/auc.py:111: UserWarning: Input data has no positive sample! Please use 'libauc.sampler.DualSampler' for data resampling!\n",
      "  warnings.warn(\"Input data has no positive sample! Please use 'libauc.sampler.DualSampler' for data resampling!\", UserWarning)\n"
     ]
    },
    {
     "name": "stdout",
     "output_type": "stream",
     "text": [
      "Train Batch Loss: tensor([0.], device='cuda:0') | Train AUROC: 0.5\n",
      "Train Batch Loss: tensor([0.], device='cuda:0') | Train AUROC: 0.5\n",
      "Train Batch Loss: tensor([0.], device='cuda:0') | Train AUROC: 0.5\n",
      "Train Batch Loss: tensor([0.], device='cuda:0') | Train AUROC: 0.5\n",
      "Train Batch Loss: tensor([0.], device='cuda:0') | Train AUROC: 0.5\n",
      "Train Batch Loss: tensor([0.0076], device='cuda:0') | Train AUROC: 0.047244094488188976\n"
     ]
    },
    {
     "name": "stderr",
     "output_type": "stream",
     "text": [
      "/home/ubuntu/.local/lib/python3.10/site-packages/libauc/losses/auc.py:111: UserWarning: Input data has no positive sample! Please use 'libauc.sampler.DualSampler' for data resampling!\n",
      "  warnings.warn(\"Input data has no positive sample! Please use 'libauc.sampler.DualSampler' for data resampling!\", UserWarning)\n"
     ]
    },
    {
     "name": "stdout",
     "output_type": "stream",
     "text": [
      "valid Batch Loss: tensor([0.0071], device='cuda:0') | Valid AUROC: 0.41732283464566927\n",
      "valid Batch Loss: tensor([0.], device='cuda:0') | Valid AUROC: 0.5\n",
      "valid Batch Loss: tensor([0.], device='cuda:0') | Valid AUROC: 0.5\n",
      "valid Batch Loss: tensor([0.], device='cuda:0') | Valid AUROC: 0.5\n",
      "valid Batch Loss: tensor([0.], device='cuda:0') | Valid AUROC: 0.5\n",
      "valid Batch Loss: tensor([0.], device='cuda:0') | Valid AUROC: 0.5\n",
      "Epoch: 0 | Train Loss: tensor([0.0006], device='cuda:0') | Train AUROC: 0.49075138749744013 | Valid Loss: tensor([0.0009], device='cuda:0') | Valid AUROC: 0.4861394918634073 \n",
      "\n",
      "Validation AUROC Improved (-inf ---> 0.4861394918634073)\n",
      "Model Saved\n",
      "Train Batch Loss: tensor([0.], device='cuda:0') | Train AUROC: 0.5\n"
     ]
    },
    {
     "ename": "KeyboardInterrupt",
     "evalue": "",
     "output_type": "error",
     "traceback": [
      "\u001b[0;31m---------------------------------------------------------------------------\u001b[0m",
      "\u001b[0;31mKeyboardInterrupt\u001b[0m                         Traceback (most recent call last)",
      "Cell \u001b[0;32mIn[11], line 9\u001b[0m\n\u001b[1;32m      6\u001b[0m epochs_no_improve \u001b[38;5;241m=\u001b[39m \u001b[38;5;241m0\u001b[39m\n\u001b[1;32m      8\u001b[0m \u001b[38;5;28;01mfor\u001b[39;00m epoch \u001b[38;5;129;01min\u001b[39;00m \u001b[38;5;28mrange\u001b[39m(\u001b[38;5;241m10\u001b[39m):\n\u001b[0;32m----> 9\u001b[0m     model_ft, epoch_loss, train_auroc, train_batch_losses \u001b[38;5;241m=\u001b[39m \u001b[43mtrain_model\u001b[49m\u001b[43m(\u001b[49m\u001b[43mmodel_ft\u001b[49m\u001b[43m,\u001b[49m\u001b[43m \u001b[49m\u001b[43mtrain_dataloader\u001b[49m\u001b[43m,\u001b[49m\u001b[43m \u001b[49m\u001b[43mcriterion\u001b[49m\u001b[43m,\u001b[49m\u001b[43m \u001b[49m\u001b[43moptimizer_ft\u001b[49m\u001b[43m)\u001b[49m\n\u001b[1;32m     10\u001b[0m     model_ft, valid_loss, valid_auroc, valid_batch_losses \u001b[38;5;241m=\u001b[39m validate_model(model_ft, valid_dataloader, criterion, optimizer_ft)\n\u001b[1;32m     12\u001b[0m     \u001b[38;5;28mprint\u001b[39m(\u001b[38;5;124mf\u001b[39m\u001b[38;5;124m\"\u001b[39m\u001b[38;5;124mEpoch: \u001b[39m\u001b[38;5;132;01m{\u001b[39;00mepoch\u001b[38;5;132;01m}\u001b[39;00m\u001b[38;5;124m | Train Loss: \u001b[39m\u001b[38;5;132;01m{\u001b[39;00mepoch_loss\u001b[38;5;132;01m}\u001b[39;00m\u001b[38;5;124m | Train AUROC: \u001b[39m\u001b[38;5;132;01m{\u001b[39;00mtrain_auroc\u001b[38;5;132;01m}\u001b[39;00m\u001b[38;5;124m | Valid Loss: \u001b[39m\u001b[38;5;132;01m{\u001b[39;00mvalid_loss\u001b[38;5;132;01m}\u001b[39;00m\u001b[38;5;124m | Valid AUROC: \u001b[39m\u001b[38;5;132;01m{\u001b[39;00mvalid_auroc\u001b[38;5;132;01m}\u001b[39;00m\u001b[38;5;124m \u001b[39m\u001b[38;5;130;01m\\n\u001b[39;00m\u001b[38;5;124m\"\u001b[39m)\n",
      "Cell \u001b[0;32mIn[10], line 18\u001b[0m, in \u001b[0;36mtrain_model\u001b[0;34m(model, dataloader, criterion, optimizer, scheduler)\u001b[0m\n\u001b[1;32m     15\u001b[0m     outputs \u001b[38;5;241m=\u001b[39m model(inputs)\u001b[38;5;241m.\u001b[39mflatten()\n\u001b[1;32m     16\u001b[0m     loss \u001b[38;5;241m=\u001b[39m criterion(outputs, labels)\n\u001b[0;32m---> 18\u001b[0m     \u001b[43mloss\u001b[49m\u001b[38;5;241;43m.\u001b[39;49m\u001b[43mbackward\u001b[49m\u001b[43m(\u001b[49m\u001b[43m)\u001b[49m\n\u001b[1;32m     19\u001b[0m     optimizer\u001b[38;5;241m.\u001b[39mstep()\n\u001b[1;32m     21\u001b[0m loss_val \u001b[38;5;241m=\u001b[39m loss\u001b[38;5;241m.\u001b[39mdetach()\n",
      "File \u001b[0;32m~/.local/lib/python3.10/site-packages/torch/_tensor.py:525\u001b[0m, in \u001b[0;36mTensor.backward\u001b[0;34m(self, gradient, retain_graph, create_graph, inputs)\u001b[0m\n\u001b[1;32m    515\u001b[0m \u001b[38;5;28;01mif\u001b[39;00m has_torch_function_unary(\u001b[38;5;28mself\u001b[39m):\n\u001b[1;32m    516\u001b[0m     \u001b[38;5;28;01mreturn\u001b[39;00m handle_torch_function(\n\u001b[1;32m    517\u001b[0m         Tensor\u001b[38;5;241m.\u001b[39mbackward,\n\u001b[1;32m    518\u001b[0m         (\u001b[38;5;28mself\u001b[39m,),\n\u001b[0;32m   (...)\u001b[0m\n\u001b[1;32m    523\u001b[0m         inputs\u001b[38;5;241m=\u001b[39minputs,\n\u001b[1;32m    524\u001b[0m     )\n\u001b[0;32m--> 525\u001b[0m \u001b[43mtorch\u001b[49m\u001b[38;5;241;43m.\u001b[39;49m\u001b[43mautograd\u001b[49m\u001b[38;5;241;43m.\u001b[39;49m\u001b[43mbackward\u001b[49m\u001b[43m(\u001b[49m\n\u001b[1;32m    526\u001b[0m \u001b[43m    \u001b[49m\u001b[38;5;28;43mself\u001b[39;49m\u001b[43m,\u001b[49m\u001b[43m \u001b[49m\u001b[43mgradient\u001b[49m\u001b[43m,\u001b[49m\u001b[43m \u001b[49m\u001b[43mretain_graph\u001b[49m\u001b[43m,\u001b[49m\u001b[43m \u001b[49m\u001b[43mcreate_graph\u001b[49m\u001b[43m,\u001b[49m\u001b[43m \u001b[49m\u001b[43minputs\u001b[49m\u001b[38;5;241;43m=\u001b[39;49m\u001b[43minputs\u001b[49m\n\u001b[1;32m    527\u001b[0m \u001b[43m\u001b[49m\u001b[43m)\u001b[49m\n",
      "File \u001b[0;32m~/.local/lib/python3.10/site-packages/torch/autograd/__init__.py:267\u001b[0m, in \u001b[0;36mbackward\u001b[0;34m(tensors, grad_tensors, retain_graph, create_graph, grad_variables, inputs)\u001b[0m\n\u001b[1;32m    262\u001b[0m     retain_graph \u001b[38;5;241m=\u001b[39m create_graph\n\u001b[1;32m    264\u001b[0m \u001b[38;5;66;03m# The reason we repeat the same comment below is that\u001b[39;00m\n\u001b[1;32m    265\u001b[0m \u001b[38;5;66;03m# some Python versions print out the first line of a multi-line function\u001b[39;00m\n\u001b[1;32m    266\u001b[0m \u001b[38;5;66;03m# calls in the traceback and some print out the last line\u001b[39;00m\n\u001b[0;32m--> 267\u001b[0m \u001b[43m_engine_run_backward\u001b[49m\u001b[43m(\u001b[49m\n\u001b[1;32m    268\u001b[0m \u001b[43m    \u001b[49m\u001b[43mtensors\u001b[49m\u001b[43m,\u001b[49m\n\u001b[1;32m    269\u001b[0m \u001b[43m    \u001b[49m\u001b[43mgrad_tensors_\u001b[49m\u001b[43m,\u001b[49m\n\u001b[1;32m    270\u001b[0m \u001b[43m    \u001b[49m\u001b[43mretain_graph\u001b[49m\u001b[43m,\u001b[49m\n\u001b[1;32m    271\u001b[0m \u001b[43m    \u001b[49m\u001b[43mcreate_graph\u001b[49m\u001b[43m,\u001b[49m\n\u001b[1;32m    272\u001b[0m \u001b[43m    \u001b[49m\u001b[43minputs\u001b[49m\u001b[43m,\u001b[49m\n\u001b[1;32m    273\u001b[0m \u001b[43m    \u001b[49m\u001b[43mallow_unreachable\u001b[49m\u001b[38;5;241;43m=\u001b[39;49m\u001b[38;5;28;43;01mTrue\u001b[39;49;00m\u001b[43m,\u001b[49m\n\u001b[1;32m    274\u001b[0m \u001b[43m    \u001b[49m\u001b[43maccumulate_grad\u001b[49m\u001b[38;5;241;43m=\u001b[39;49m\u001b[38;5;28;43;01mTrue\u001b[39;49;00m\u001b[43m,\u001b[49m\n\u001b[1;32m    275\u001b[0m \u001b[43m\u001b[49m\u001b[43m)\u001b[49m\n",
      "File \u001b[0;32m~/.local/lib/python3.10/site-packages/torch/autograd/graph.py:744\u001b[0m, in \u001b[0;36m_engine_run_backward\u001b[0;34m(t_outputs, *args, **kwargs)\u001b[0m\n\u001b[1;32m    742\u001b[0m     unregister_hooks \u001b[38;5;241m=\u001b[39m _register_logging_hooks_on_whole_graph(t_outputs)\n\u001b[1;32m    743\u001b[0m \u001b[38;5;28;01mtry\u001b[39;00m:\n\u001b[0;32m--> 744\u001b[0m     \u001b[38;5;28;01mreturn\u001b[39;00m \u001b[43mVariable\u001b[49m\u001b[38;5;241;43m.\u001b[39;49m\u001b[43m_execution_engine\u001b[49m\u001b[38;5;241;43m.\u001b[39;49m\u001b[43mrun_backward\u001b[49m\u001b[43m(\u001b[49m\u001b[43m  \u001b[49m\u001b[38;5;66;43;03m# Calls into the C++ engine to run the backward pass\u001b[39;49;00m\n\u001b[1;32m    745\u001b[0m \u001b[43m        \u001b[49m\u001b[43mt_outputs\u001b[49m\u001b[43m,\u001b[49m\u001b[43m \u001b[49m\u001b[38;5;241;43m*\u001b[39;49m\u001b[43margs\u001b[49m\u001b[43m,\u001b[49m\u001b[43m \u001b[49m\u001b[38;5;241;43m*\u001b[39;49m\u001b[38;5;241;43m*\u001b[39;49m\u001b[43mkwargs\u001b[49m\n\u001b[1;32m    746\u001b[0m \u001b[43m    \u001b[49m\u001b[43m)\u001b[49m  \u001b[38;5;66;03m# Calls into the C++ engine to run the backward pass\u001b[39;00m\n\u001b[1;32m    747\u001b[0m \u001b[38;5;28;01mfinally\u001b[39;00m:\n\u001b[1;32m    748\u001b[0m     \u001b[38;5;28;01mif\u001b[39;00m attach_logging_hooks:\n",
      "\u001b[0;31mKeyboardInterrupt\u001b[0m: "
     ]
    }
   ],
   "source": [
    "run = wandb.init(project=\"isic_lesions_24\", job_type=\"train\")\n",
    "\n",
    "best_epoch_auroc = -np.inf\n",
    "best_valid_loss = np.inf\n",
    "early_stopping_patience = 4\n",
    "epochs_no_improve = 0\n",
    "\n",
    "for epoch in range(10):\n",
    "    model_ft, epoch_loss, train_auroc, train_batch_losses = train_model(model_ft, train_dataloader, criterion, optimizer_ft)\n",
    "    model_ft, valid_loss, valid_auroc, valid_batch_losses = validate_model(model_ft, valid_dataloader, criterion, optimizer_ft)\n",
    "\n",
    "    print(f\"Epoch: {epoch} | Train Loss: {epoch_loss} | Train AUROC: {train_auroc} | Valid Loss: {valid_loss} | Valid AUROC: {valid_auroc} \\n\")\n",
    "    wandb.log({\n",
    "        \"epoch\": epoch,\n",
    "        \"epoch_loss\": epoch_loss,\n",
    "        \"epoch_val_loss\": valid_loss,\n",
    "        \"epoch_train_auroc\": train_auroc,\n",
    "        \"epoch_valid_auroc\": valid_auroc,\n",
    "    })\n",
    "\n",
    "    if best_epoch_auroc <= valid_auroc:\n",
    "        print(f\"Validation AUROC Improved ({best_epoch_auroc} ---> {valid_auroc})\")\n",
    "        best_epoch_auroc = valid_auroc\n",
    "        best_model_wts = copy.deepcopy(model_ft.state_dict())\n",
    "        PATH = \"../models/AUROC{:.4f}_Loss{:.4f}_epoch{:.0f}.bin\".format(valid_auroc, valid_loss.item(), epoch)\n",
    "        torch.save(model_ft.state_dict(), PATH)\n",
    "        # Save a model file from the current directory\n",
    "        print(f\"Model Saved\")\n",
    "\n",
    "    if best_valid_loss >= valid_loss:\n",
    "        best_valid_loss = valid_loss\n",
    "        epochs_no_improve = 0\n",
    "    else:\n",
    "        epochs_no_improve += 1\n",
    "\n",
    "    if epochs_no_improve >= early_stopping_patience:\n",
    "        print(f\"Early stopping triggered after {epochs_no_improve} epochs with no improvement.\")\n",
    "        break"
   ]
  },
  {
   "cell_type": "code",
   "execution_count": null,
   "metadata": {},
   "outputs": [],
   "source": [
    "model_ft.load_state_dict(best_model_wts)"
   ]
  },
  {
   "cell_type": "code",
   "execution_count": 64,
   "metadata": {},
   "outputs": [],
   "source": [
    "@torch.inference_mode()\n",
    "def infer_model(model, dataloader):\n",
    "    model.eval()\n",
    "\n",
    "    preds = []\n",
    "    gts = []\n",
    "\n",
    "    for inputs, labels in tqdm(dataloader):\n",
    "        inputs = inputs.to(device)\n",
    "        labels = labels.to(device).flatten()\n",
    "\n",
    "        with torch.no_grad():\n",
    "            outputs = model(inputs).flatten()\n",
    "            preds.extend(torch.sigmoid(outputs))\n",
    "            gts.extend(labels)\n",
    "\n",
    "    preds = [pred.item() for pred in preds]\n",
    "    gts = [gt.item() for gt in gts]\n",
    "\n",
    "    return preds, gts"
   ]
  },
  {
   "cell_type": "code",
   "execution_count": 65,
   "metadata": {},
   "outputs": [
    {
     "name": "stderr",
     "output_type": "stream",
     "text": [
      "100%|██████████| 626/626 [03:05<00:00,  3.37it/s]  \n"
     ]
    },
    {
     "data": {
      "text/plain": [
       "0.03660723213851316"
      ]
     },
     "execution_count": 65,
     "metadata": {},
     "output_type": "execute_result"
    }
   ],
   "source": [
    "def comp_score(solution: pd.DataFrame, submission: pd.DataFrame, row_id_column_name: str, min_tpr: float=0.80):\n",
    "    v_gt = abs(np.asarray(solution.values)-1)\n",
    "    v_pred = np.array([1.0 - x for x in submission.values])\n",
    "    max_fpr = abs(1-min_tpr)\n",
    "    partial_auc_scaled = roc_auc_score(v_gt, v_pred, max_fpr=max_fpr)\n",
    "    # change scale from [0.5, 1.0] to [0.5 * max_fpr**2, max_fpr]\n",
    "    # https://math.stackexchange.com/questions/914823/shift-numbers-into-a-different-range\n",
    "    partial_auc = 0.5 * max_fpr**2 + (max_fpr - 0.5 * max_fpr**2) / (1.0 - 0.5) * (partial_auc_scaled - 0.5)\n",
    "    return partial_auc\n",
    "\n",
    "preds, gts = infer_model(model_ft, valid_dataloader)\n",
    "\n",
    "comp_score(\n",
    "    pd.DataFrame(gts, columns=[\"target\"]),\n",
    "    pd.DataFrame(preds, columns=[\"prediction\"]),\n",
    "    \"\"\n",
    ")"
   ]
  },
  {
   "cell_type": "code",
   "execution_count": 68,
   "metadata": {},
   "outputs": [
    {
     "data": {
      "image/png": "[encoded data removed]",
      "text/plain": [
       "<Figure size 640x480 with 1 Axes>"
      ]
     },
     "metadata": {},
     "output_type": "display_data"
    }
   ],
   "source": [
    "import numpy as np\n",
    "import pandas as pd\n",
    "import matplotlib.pyplot as plt\n",
    "from sklearn.metrics import roc_curve, auc, roc_auc_score\n",
    "\n",
    "def comp_score(solution: pd.DataFrame, submission: pd.DataFrame, row_id_column_name: str, min_tpr: float=0.80):\n",
    "    v_gt = abs(np.asarray(solution.values) - 1)\n",
    "    v_pred = np.array([1.0 - x for x in submission.values])\n",
    "    max_fpr = abs(1 - min_tpr)\n",
    "    partial_auc_scaled = roc_auc_score(v_gt, v_pred, max_fpr=max_fpr)\n",
    "    # Change scale from [0.5, 1.0] to [0.5 * max_fpr**2, max_fpr]\n",
    "    partial_auc = 0.5 * max_fpr**2 + (max_fpr - 0.5 * max_fpr**2) / (1.0 - 0.5) * (partial_auc_scaled - 0.5)\n",
    "    return partial_auc\n",
    "\n",
    "tpr_threshold = 0.8\n",
    "\n",
    "# Generate example data\n",
    "y_true = gts\n",
    "y_scores = preds\n",
    "\n",
    "# Convert to DataFrame as expected by comp_score function\n",
    "solution = pd.DataFrame(y_true, columns=['label'])\n",
    "submission = pd.DataFrame(y_scores, columns=['score'])\n",
    "\n",
    "# Calculate the partial AUC using the competition's scoring function\n",
    "pAUC_comp = comp_score(solution, submission, row_id_column_name=\"\", min_tpr=0.80)\n",
    "\n",
    "# Calculate the ROC curve\n",
    "fpr, tpr, thresholds = roc_curve(y_true, y_scores)\n",
    "roc_auc = auc(fpr, tpr)\n",
    "\n",
    "# Plot the ROC curve\n",
    "plt.figure()\n",
    "plt.plot(fpr, tpr, color='blue', lw=2, label='ROC curve (AUC = %0.3f)' % roc_auc)\n",
    "\n",
    "# Shade the area where TPR >= 80%\n",
    "start_idx = np.where(tpr >= tpr_threshold)[0][0]\n",
    "fpr_shade = np.concatenate(([fpr[start_idx]], fpr[start_idx:], [1]))\n",
    "tpr_shade = np.concatenate(([tpr_threshold], tpr[start_idx:], [tpr_threshold]))\n",
    "plt.fill_between(fpr_shade, tpr_shade, y2=0.8, alpha=0.3, color='blue', label='Partial AUC (TPR >= 0.8) = %0.3f' % pAUC_comp)\n",
    "\n",
    "# Add dashed line for TPR threshold\n",
    "plt.axhline(y=tpr_threshold, color='red', linestyle='--', label='TPR = 0.80')\n",
    "\n",
    "# Add labels and legend\n",
    "plt.xlim([0.0, 1.0])\n",
    "plt.ylim([0.0, 1.05])\n",
    "plt.xlabel('False Positive Rate')\n",
    "plt.ylabel('True Positive Rate')\n",
    "plt.title('Receiver Operating Characteristic')\n",
    "plt.legend(loc='lower right')\n",
    "plt.show()"
   ]
  },
  {
   "cell_type": "code",
   "execution_count": null,
   "metadata": {},
   "outputs": [],
   "source": []
  }
 ],
 "metadata": {
  "kernelspec": {
   "display_name": "skin",
   "language": "python",
   "name": "python3"
  },
  "language_info": {
   "codemirror_mode": {
    "name": "ipython",
    "version": 3
   },
   "file_extension": ".py",
   "mimetype": "text/x-python",
   "name": "python",
   "nbconvert_exporter": "python",
   "pygments_lexer": "ipython3",
   "version": "3.10.12"
  }
 },
 "nbformat": 4,
 "nbformat_minor": 2
}
