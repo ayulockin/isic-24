{
 "cells": [
  {
   "cell_type": "code",
   "execution_count": 1,
   "metadata": {},
   "outputs": [],
   "source": [
    "%load_ext autoreload\n",
    "%autoreload 2"
   ]
  },
  {
   "cell_type": "code",
   "execution_count": 2,
   "metadata": {},
   "outputs": [],
   "source": [
    "import os\n",
    "import wandb\n",
    "import pandas as pd\n",
    "import numpy as np\n",
    "from glob import glob\n",
    "import matplotlib.pyplot as plt"
   ]
  },
  {
   "cell_type": "code",
   "execution_count": 3,
   "metadata": {},
   "outputs": [
    {
     "name": "stderr",
     "output_type": "stream",
     "text": [
      "/tmp/ipykernel_2174929/94633858.py:1: DtypeWarning: Columns (8,13,16,17,19) have mixed types. Specify dtype option on import or set low_memory=False.\n",
      "  df = pd.read_csv(\"/home/ubuntu/ayusht/skin/data/extra/extra_metadata.csv\")\n"
     ]
    }
   ],
   "source": [
    "df = pd.read_csv(\"/home/ubuntu/ayusht/skin/data/extra/extra_metadata.csv\")"
   ]
  },
  {
   "cell_type": "code",
   "execution_count": 4,
   "metadata": {},
   "outputs": [
    {
     "data": {
      "text/html": [
       "<div>\n",
       "<style scoped>\n",
       "    .dataframe tbody tr th:only-of-type {\n",
       "        vertical-align: middle;\n",
       "    }\n",
       "\n",
       "    .dataframe tbody tr th {\n",
       "        vertical-align: top;\n",
       "    }\n",
       "\n",
       "    .dataframe thead th {\n",
       "        text-align: right;\n",
       "    }\n",
       "</style>\n",
       "<table border=\"1\" class=\"dataframe\">\n",
       "  <thead>\n",
       "    <tr style=\"text-align: right;\">\n",
       "      <th></th>\n",
       "      <th>isic_id</th>\n",
       "      <th>attribution</th>\n",
       "      <th>copyright_license</th>\n",
       "      <th>acquisition_day</th>\n",
       "      <th>age_approx</th>\n",
       "      <th>anatom_site_general</th>\n",
       "      <th>benign_malignant</th>\n",
       "      <th>clin_size_long_diam_mm</th>\n",
       "      <th>concomitant_biopsy</th>\n",
       "      <th>dermoscopic_type</th>\n",
       "      <th>...</th>\n",
       "      <th>mel_thick_mm</th>\n",
       "      <th>mel_type</th>\n",
       "      <th>mel_ulcer</th>\n",
       "      <th>melanocytic</th>\n",
       "      <th>nevus_type</th>\n",
       "      <th>patient_id</th>\n",
       "      <th>personal_hx_mm</th>\n",
       "      <th>pixels_x</th>\n",
       "      <th>pixels_y</th>\n",
       "      <th>sex</th>\n",
       "    </tr>\n",
       "  </thead>\n",
       "  <tbody>\n",
       "    <tr>\n",
       "      <th>0</th>\n",
       "      <td>ISIC_7559201</td>\n",
       "      <td>Memorial Sloan Kettering Cancer Center</td>\n",
       "      <td>CC-BY</td>\n",
       "      <td>2497.0</td>\n",
       "      <td>55.0</td>\n",
       "      <td>anterior torso</td>\n",
       "      <td>benign</td>\n",
       "      <td>6.6</td>\n",
       "      <td>NaN</td>\n",
       "      <td>contact non-polarized</td>\n",
       "      <td>...</td>\n",
       "      <td>NaN</td>\n",
       "      <td>NaN</td>\n",
       "      <td>NaN</td>\n",
       "      <td>True</td>\n",
       "      <td>NaN</td>\n",
       "      <td>IP_1238256</td>\n",
       "      <td>True</td>\n",
       "      <td>3264</td>\n",
       "      <td>2448</td>\n",
       "      <td>female</td>\n",
       "    </tr>\n",
       "    <tr>\n",
       "      <th>1</th>\n",
       "      <td>ISIC_0485014</td>\n",
       "      <td>Memorial Sloan Kettering Cancer Center</td>\n",
       "      <td>CC-BY</td>\n",
       "      <td>1.0</td>\n",
       "      <td>45.0</td>\n",
       "      <td>lower extremity</td>\n",
       "      <td>benign</td>\n",
       "      <td>NaN</td>\n",
       "      <td>NaN</td>\n",
       "      <td>contact non-polarized</td>\n",
       "      <td>...</td>\n",
       "      <td>NaN</td>\n",
       "      <td>NaN</td>\n",
       "      <td>NaN</td>\n",
       "      <td>True</td>\n",
       "      <td>NaN</td>\n",
       "      <td>IP_3227071</td>\n",
       "      <td>NaN</td>\n",
       "      <td>6000</td>\n",
       "      <td>4000</td>\n",
       "      <td>female</td>\n",
       "    </tr>\n",
       "    <tr>\n",
       "      <th>2</th>\n",
       "      <td>ISIC_5257439</td>\n",
       "      <td>Memorial Sloan Kettering Cancer Center</td>\n",
       "      <td>CC-BY</td>\n",
       "      <td>2360.0</td>\n",
       "      <td>40.0</td>\n",
       "      <td>lateral torso</td>\n",
       "      <td>benign</td>\n",
       "      <td>4.2</td>\n",
       "      <td>NaN</td>\n",
       "      <td>NaN</td>\n",
       "      <td>...</td>\n",
       "      <td>NaN</td>\n",
       "      <td>NaN</td>\n",
       "      <td>NaN</td>\n",
       "      <td>True</td>\n",
       "      <td>NaN</td>\n",
       "      <td>IP_7407753</td>\n",
       "      <td>True</td>\n",
       "      <td>3264</td>\n",
       "      <td>2448</td>\n",
       "      <td>female</td>\n",
       "    </tr>\n",
       "    <tr>\n",
       "      <th>3</th>\n",
       "      <td>ISIC_2989732</td>\n",
       "      <td>Memorial Sloan Kettering Cancer Center</td>\n",
       "      <td>CC-BY</td>\n",
       "      <td>78.0</td>\n",
       "      <td>80.0</td>\n",
       "      <td>anterior torso</td>\n",
       "      <td>benign</td>\n",
       "      <td>NaN</td>\n",
       "      <td>NaN</td>\n",
       "      <td>non-contact polarized</td>\n",
       "      <td>...</td>\n",
       "      <td>NaN</td>\n",
       "      <td>NaN</td>\n",
       "      <td>NaN</td>\n",
       "      <td>True</td>\n",
       "      <td>NaN</td>\n",
       "      <td>IP_2597637</td>\n",
       "      <td>NaN</td>\n",
       "      <td>6000</td>\n",
       "      <td>4000</td>\n",
       "      <td>male</td>\n",
       "    </tr>\n",
       "    <tr>\n",
       "      <th>4</th>\n",
       "      <td>ISIC_5638210</td>\n",
       "      <td>Memorial Sloan Kettering Cancer Center</td>\n",
       "      <td>CC-BY</td>\n",
       "      <td>78.0</td>\n",
       "      <td>80.0</td>\n",
       "      <td>anterior torso</td>\n",
       "      <td>benign</td>\n",
       "      <td>NaN</td>\n",
       "      <td>NaN</td>\n",
       "      <td>contact non-polarized</td>\n",
       "      <td>...</td>\n",
       "      <td>NaN</td>\n",
       "      <td>NaN</td>\n",
       "      <td>NaN</td>\n",
       "      <td>True</td>\n",
       "      <td>NaN</td>\n",
       "      <td>IP_2597637</td>\n",
       "      <td>NaN</td>\n",
       "      <td>6000</td>\n",
       "      <td>4000</td>\n",
       "      <td>male</td>\n",
       "    </tr>\n",
       "  </tbody>\n",
       "</table>\n",
       "<p>5 rows × 28 columns</p>\n",
       "</div>"
      ],
      "text/plain": [
       "        isic_id                             attribution copyright_license  \\\n",
       "0  ISIC_7559201  Memorial Sloan Kettering Cancer Center             CC-BY   \n",
       "1  ISIC_0485014  Memorial Sloan Kettering Cancer Center             CC-BY   \n",
       "2  ISIC_5257439  Memorial Sloan Kettering Cancer Center             CC-BY   \n",
       "3  ISIC_2989732  Memorial Sloan Kettering Cancer Center             CC-BY   \n",
       "4  ISIC_5638210  Memorial Sloan Kettering Cancer Center             CC-BY   \n",
       "\n",
       "   acquisition_day  age_approx anatom_site_general benign_malignant  \\\n",
       "0           2497.0        55.0      anterior torso           benign   \n",
       "1              1.0        45.0     lower extremity           benign   \n",
       "2           2360.0        40.0       lateral torso           benign   \n",
       "3             78.0        80.0      anterior torso           benign   \n",
       "4             78.0        80.0      anterior torso           benign   \n",
       "\n",
       "   clin_size_long_diam_mm concomitant_biopsy       dermoscopic_type  ...  \\\n",
       "0                     6.6                NaN  contact non-polarized  ...   \n",
       "1                     NaN                NaN  contact non-polarized  ...   \n",
       "2                     4.2                NaN                    NaN  ...   \n",
       "3                     NaN                NaN  non-contact polarized  ...   \n",
       "4                     NaN                NaN  contact non-polarized  ...   \n",
       "\n",
       "  mel_thick_mm mel_type mel_ulcer melanocytic nevus_type  patient_id  \\\n",
       "0          NaN      NaN       NaN        True        NaN  IP_1238256   \n",
       "1          NaN      NaN       NaN        True        NaN  IP_3227071   \n",
       "2          NaN      NaN       NaN        True        NaN  IP_7407753   \n",
       "3          NaN      NaN       NaN        True        NaN  IP_2597637   \n",
       "4          NaN      NaN       NaN        True        NaN  IP_2597637   \n",
       "\n",
       "  personal_hx_mm pixels_x  pixels_y     sex  \n",
       "0           True     3264      2448  female  \n",
       "1            NaN     6000      4000  female  \n",
       "2           True     3264      2448  female  \n",
       "3            NaN     6000      4000    male  \n",
       "4            NaN     6000      4000    male  \n",
       "\n",
       "[5 rows x 28 columns]"
      ]
     },
     "execution_count": 4,
     "metadata": {},
     "output_type": "execute_result"
    }
   ],
   "source": [
    "df.head()"
   ]
  },
  {
   "cell_type": "code",
   "execution_count": 5,
   "metadata": {},
   "outputs": [
    {
     "data": {
      "text/plain": [
       "81722"
      ]
     },
     "execution_count": 5,
     "metadata": {},
     "output_type": "execute_result"
    }
   ],
   "source": [
    "len(df)"
   ]
  },
  {
   "cell_type": "code",
   "execution_count": 6,
   "metadata": {},
   "outputs": [
    {
     "data": {
      "text/plain": [
       "benign_malignant\n",
       "benign                     64047\n",
       "malignant                   9239\n",
       "indeterminate                150\n",
       "indeterminate/malignant       85\n",
       "indeterminate/benign          67\n",
       "Name: count, dtype: int64"
      ]
     },
     "execution_count": 6,
     "metadata": {},
     "output_type": "execute_result"
    }
   ],
   "source": [
    "df.benign_malignant.value_counts()"
   ]
  },
  {
   "cell_type": "code",
   "execution_count": 61,
   "metadata": {},
   "outputs": [],
   "source": [
    "malignant_df = df.loc[df.benign_malignant == \"malignant\"]"
   ]
  },
  {
   "cell_type": "code",
   "execution_count": 62,
   "metadata": {},
   "outputs": [
    {
     "data": {
      "text/plain": [
       "Index(['isic_id', 'attribution', 'copyright_license', 'acquisition_day',\n",
       "       'age_approx', 'anatom_site_general', 'benign_malignant',\n",
       "       'clin_size_long_diam_mm', 'concomitant_biopsy', 'dermoscopic_type',\n",
       "       'diagnosis', 'diagnosis_confirm_type', 'family_hx_mm',\n",
       "       'fitzpatrick_skin_type', 'image_type', 'lesion_id', 'mel_class',\n",
       "       'mel_mitotic_index', 'mel_thick_mm', 'mel_type', 'mel_ulcer',\n",
       "       'melanocytic', 'nevus_type', 'patient_id', 'personal_hx_mm', 'pixels_x',\n",
       "       'pixels_y', 'sex'],\n",
       "      dtype='object')"
      ]
     },
     "execution_count": 62,
     "metadata": {},
     "output_type": "execute_result"
    }
   ],
   "source": [
    "malignant_df.columns"
   ]
  },
  {
   "cell_type": "code",
   "execution_count": 22,
   "metadata": {},
   "outputs": [
    {
     "data": {
      "text/plain": [
       "9239"
      ]
     },
     "execution_count": 22,
     "metadata": {},
     "output_type": "execute_result"
    }
   ],
   "source": [
    "malignant_imgs = glob(\"../data/extra/malignant_images/*.jpg\")\n",
    "len(malignant_imgs)"
   ]
  },
  {
   "cell_type": "code",
   "execution_count": 23,
   "metadata": {},
   "outputs": [
    {
     "data": {
      "text/plain": [
       "9242"
      ]
     },
     "execution_count": 23,
     "metadata": {},
     "output_type": "execute_result"
    }
   ],
   "source": [
    "f = glob(\"../data/extra/malignant_images/*\")\n",
    "len(f)"
   ]
  },
  {
   "cell_type": "code",
   "execution_count": 26,
   "metadata": {},
   "outputs": [
    {
     "name": "stdout",
     "output_type": "stream",
     "text": [
      "../data/extra/malignant_images/metadata.csv\n",
      "../data/extra/malignant_images/attribution.txt\n",
      "../data/extra/malignant_images/licenses\n"
     ]
    }
   ],
   "source": [
    "for img in f:\n",
    "    if img.endswith(\".jpg\"):\n",
    "        continue\n",
    "    else:\n",
    "        print(img)"
   ]
  },
  {
   "cell_type": "code",
   "execution_count": 27,
   "metadata": {},
   "outputs": [],
   "source": [
    "_malignant_df = pd.read_csv(\"../data/extra/malignant_images/metadata.csv\")"
   ]
  },
  {
   "cell_type": "code",
   "execution_count": 63,
   "metadata": {},
   "outputs": [
    {
     "data": {
      "text/html": [
       "<div>\n",
       "<style scoped>\n",
       "    .dataframe tbody tr th:only-of-type {\n",
       "        vertical-align: middle;\n",
       "    }\n",
       "\n",
       "    .dataframe tbody tr th {\n",
       "        vertical-align: top;\n",
       "    }\n",
       "\n",
       "    .dataframe thead th {\n",
       "        text-align: right;\n",
       "    }\n",
       "</style>\n",
       "<table border=\"1\" class=\"dataframe\">\n",
       "  <thead>\n",
       "    <tr style=\"text-align: right;\">\n",
       "      <th></th>\n",
       "      <th>isic_id</th>\n",
       "      <th>attribution</th>\n",
       "      <th>copyright_license</th>\n",
       "      <th>acquisition_day</th>\n",
       "      <th>age_approx</th>\n",
       "      <th>anatom_site_general</th>\n",
       "      <th>benign_malignant</th>\n",
       "      <th>clin_size_long_diam_mm</th>\n",
       "      <th>concomitant_biopsy</th>\n",
       "      <th>dermoscopic_type</th>\n",
       "      <th>...</th>\n",
       "      <th>mel_thick_mm</th>\n",
       "      <th>mel_type</th>\n",
       "      <th>mel_ulcer</th>\n",
       "      <th>melanocytic</th>\n",
       "      <th>nevus_type</th>\n",
       "      <th>patient_id</th>\n",
       "      <th>personal_hx_mm</th>\n",
       "      <th>pixels_x</th>\n",
       "      <th>pixels_y</th>\n",
       "      <th>sex</th>\n",
       "    </tr>\n",
       "  </thead>\n",
       "  <tbody>\n",
       "    <tr>\n",
       "      <th>43</th>\n",
       "      <td>ISIC_1633321</td>\n",
       "      <td>Memorial Sloan Kettering Cancer Center</td>\n",
       "      <td>CC-BY</td>\n",
       "      <td>1121.0</td>\n",
       "      <td>80.0</td>\n",
       "      <td>anterior torso</td>\n",
       "      <td>malignant</td>\n",
       "      <td>10.1</td>\n",
       "      <td>NaN</td>\n",
       "      <td>contact non-polarized</td>\n",
       "      <td>...</td>\n",
       "      <td>NaN</td>\n",
       "      <td>NaN</td>\n",
       "      <td>NaN</td>\n",
       "      <td>True</td>\n",
       "      <td>NaN</td>\n",
       "      <td>IP_2597637</td>\n",
       "      <td>True</td>\n",
       "      <td>3264</td>\n",
       "      <td>2448</td>\n",
       "      <td>male</td>\n",
       "    </tr>\n",
       "    <tr>\n",
       "      <th>54</th>\n",
       "      <td>ISIC_2222766</td>\n",
       "      <td>Memorial Sloan Kettering Cancer Center</td>\n",
       "      <td>CC-BY</td>\n",
       "      <td>1233.0</td>\n",
       "      <td>80.0</td>\n",
       "      <td>lower extremity</td>\n",
       "      <td>malignant</td>\n",
       "      <td>10.4</td>\n",
       "      <td>NaN</td>\n",
       "      <td>NaN</td>\n",
       "      <td>...</td>\n",
       "      <td>NaN</td>\n",
       "      <td>NaN</td>\n",
       "      <td>NaN</td>\n",
       "      <td>True</td>\n",
       "      <td>NaN</td>\n",
       "      <td>IP_2597637</td>\n",
       "      <td>True</td>\n",
       "      <td>3264</td>\n",
       "      <td>2448</td>\n",
       "      <td>male</td>\n",
       "    </tr>\n",
       "    <tr>\n",
       "      <th>55</th>\n",
       "      <td>ISIC_6720909</td>\n",
       "      <td>Memorial Sloan Kettering Cancer Center</td>\n",
       "      <td>CC-BY</td>\n",
       "      <td>1233.0</td>\n",
       "      <td>80.0</td>\n",
       "      <td>lower extremity</td>\n",
       "      <td>malignant</td>\n",
       "      <td>10.4</td>\n",
       "      <td>NaN</td>\n",
       "      <td>contact non-polarized</td>\n",
       "      <td>...</td>\n",
       "      <td>NaN</td>\n",
       "      <td>NaN</td>\n",
       "      <td>NaN</td>\n",
       "      <td>True</td>\n",
       "      <td>NaN</td>\n",
       "      <td>IP_2597637</td>\n",
       "      <td>True</td>\n",
       "      <td>3264</td>\n",
       "      <td>2448</td>\n",
       "      <td>male</td>\n",
       "    </tr>\n",
       "    <tr>\n",
       "      <th>56</th>\n",
       "      <td>ISIC_6364782</td>\n",
       "      <td>Memorial Sloan Kettering Cancer Center</td>\n",
       "      <td>CC-BY</td>\n",
       "      <td>1233.0</td>\n",
       "      <td>80.0</td>\n",
       "      <td>lower extremity</td>\n",
       "      <td>malignant</td>\n",
       "      <td>10.4</td>\n",
       "      <td>NaN</td>\n",
       "      <td>contact polarized</td>\n",
       "      <td>...</td>\n",
       "      <td>NaN</td>\n",
       "      <td>NaN</td>\n",
       "      <td>NaN</td>\n",
       "      <td>True</td>\n",
       "      <td>NaN</td>\n",
       "      <td>IP_2597637</td>\n",
       "      <td>True</td>\n",
       "      <td>3264</td>\n",
       "      <td>2448</td>\n",
       "      <td>male</td>\n",
       "    </tr>\n",
       "    <tr>\n",
       "      <th>67</th>\n",
       "      <td>ISIC_2792717</td>\n",
       "      <td>Memorial Sloan Kettering Cancer Center</td>\n",
       "      <td>CC-BY</td>\n",
       "      <td>1121.0</td>\n",
       "      <td>80.0</td>\n",
       "      <td>anterior torso</td>\n",
       "      <td>malignant</td>\n",
       "      <td>10.1</td>\n",
       "      <td>NaN</td>\n",
       "      <td>contact polarized</td>\n",
       "      <td>...</td>\n",
       "      <td>NaN</td>\n",
       "      <td>NaN</td>\n",
       "      <td>NaN</td>\n",
       "      <td>True</td>\n",
       "      <td>NaN</td>\n",
       "      <td>IP_2597637</td>\n",
       "      <td>True</td>\n",
       "      <td>3264</td>\n",
       "      <td>2448</td>\n",
       "      <td>male</td>\n",
       "    </tr>\n",
       "  </tbody>\n",
       "</table>\n",
       "<p>5 rows × 28 columns</p>\n",
       "</div>"
      ],
      "text/plain": [
       "         isic_id                             attribution copyright_license  \\\n",
       "43  ISIC_1633321  Memorial Sloan Kettering Cancer Center             CC-BY   \n",
       "54  ISIC_2222766  Memorial Sloan Kettering Cancer Center             CC-BY   \n",
       "55  ISIC_6720909  Memorial Sloan Kettering Cancer Center             CC-BY   \n",
       "56  ISIC_6364782  Memorial Sloan Kettering Cancer Center             CC-BY   \n",
       "67  ISIC_2792717  Memorial Sloan Kettering Cancer Center             CC-BY   \n",
       "\n",
       "    acquisition_day  age_approx anatom_site_general benign_malignant  \\\n",
       "43           1121.0        80.0      anterior torso        malignant   \n",
       "54           1233.0        80.0     lower extremity        malignant   \n",
       "55           1233.0        80.0     lower extremity        malignant   \n",
       "56           1233.0        80.0     lower extremity        malignant   \n",
       "67           1121.0        80.0      anterior torso        malignant   \n",
       "\n",
       "    clin_size_long_diam_mm concomitant_biopsy       dermoscopic_type  ...  \\\n",
       "43                    10.1                NaN  contact non-polarized  ...   \n",
       "54                    10.4                NaN                    NaN  ...   \n",
       "55                    10.4                NaN  contact non-polarized  ...   \n",
       "56                    10.4                NaN      contact polarized  ...   \n",
       "67                    10.1                NaN      contact polarized  ...   \n",
       "\n",
       "   mel_thick_mm mel_type mel_ulcer melanocytic nevus_type  patient_id  \\\n",
       "43          NaN      NaN       NaN        True        NaN  IP_2597637   \n",
       "54          NaN      NaN       NaN        True        NaN  IP_2597637   \n",
       "55          NaN      NaN       NaN        True        NaN  IP_2597637   \n",
       "56          NaN      NaN       NaN        True        NaN  IP_2597637   \n",
       "67          NaN      NaN       NaN        True        NaN  IP_2597637   \n",
       "\n",
       "   personal_hx_mm pixels_x  pixels_y   sex  \n",
       "43           True     3264      2448  male  \n",
       "54           True     3264      2448  male  \n",
       "55           True     3264      2448  male  \n",
       "56           True     3264      2448  male  \n",
       "67           True     3264      2448  male  \n",
       "\n",
       "[5 rows x 28 columns]"
      ]
     },
     "execution_count": 63,
     "metadata": {},
     "output_type": "execute_result"
    }
   ],
   "source": [
    "malignant_df.head()"
   ]
  },
  {
   "cell_type": "code",
   "execution_count": 64,
   "metadata": {},
   "outputs": [],
   "source": [
    "malignant_df = malignant_df.reset_index(drop=True)\n",
    "malignant_df[\"target\"] = 1"
   ]
  },
  {
   "cell_type": "code",
   "execution_count": 65,
   "metadata": {},
   "outputs": [],
   "source": [
    "from sklearn.model_selection import KFold\n",
    "\n",
    "gkf = KFold(n_splits=5) # , shuffle=True, random_state=42\n",
    "\n",
    "malignant_df[\"fold\"] = -1\n",
    "for idx, (train_idx, val_idx) in enumerate(gkf.split(malignant_df)):\n",
    "    malignant_df.loc[val_idx, \"fold\"] = idx"
   ]
  },
  {
   "cell_type": "code",
   "execution_count": 67,
   "metadata": {},
   "outputs": [],
   "source": [
    "malignant_df.to_csv(\"../data/extra_malignant.csv\", index=False)"
   ]
  },
  {
   "cell_type": "code",
   "execution_count": 76,
   "metadata": {},
   "outputs": [
    {
     "name": "stderr",
     "output_type": "stream",
     "text": [
      "/tmp/ipykernel_2174929/1601854888.py:9: DtypeWarning: Columns (51,52) have mixed types. Specify dtype option on import or set low_memory=False.\n",
      "  train_metadata_df = pd.read_csv(\"../data/stratified_5_fold_train_metadata.csv\")\n"
     ]
    },
    {
     "name": "stdout",
     "output_type": "stream",
     "text": [
      "Train: 401059 | Extra train: 9239\n"
     ]
    }
   ],
   "source": [
    "# Data\n",
    "def add_path(row):\n",
    "    return f\"../data/train-image/image/{row.isic_id}.jpg\"\n",
    "\n",
    "\n",
    "def add_extra_path(row):\n",
    "    return f\"../data/extra/malignant_images/{row.isic_id}.jpg\"\n",
    "\n",
    "train_metadata_df = pd.read_csv(\"../data/stratified_5_fold_train_metadata.csv\")\n",
    "extra_malignant_df = pd.read_csv(\"../data/extra_malignant.csv\")\n",
    "train_metadata_df[\"path\"] = train_metadata_df.apply(lambda row: add_path(row), axis=1)\n",
    "extra_malignant_df[\"path\"] = extra_malignant_df.apply(lambda row: add_extra_path(row), axis=1)\n",
    "print(f\"Train: {len(train_metadata_df)} | Extra train: {len(extra_malignant_df)}\")\n",
    "\n",
    "train_metadata_df = train_metadata_df[[\"path\", \"target\", \"fold\", \"isic_id\", \"patient_id\"]]\n",
    "extra_malignant_df = extra_malignant_df[[\"path\", \"target\", \"fold\", \"isic_id\", \"patient_id\"]]"
   ]
  },
  {
   "cell_type": "code",
   "execution_count": 77,
   "metadata": {},
   "outputs": [],
   "source": [
    "train_df_1 = train_metadata_df.loc[\n",
    "    train_metadata_df.fold == 0\n",
    "]  # using a subset for training\n",
    "train_df_2 = train_metadata_df.loc[\n",
    "    train_metadata_df.fold == 2\n",
    "]  # using a subset for training\n",
    "train_df_3 = train_metadata_df.loc[\n",
    "    train_metadata_df.fold == 3\n",
    "]  # using a subset for training\n",
    "train_df = pd.concat([train_df_1, train_df_2, train_df_3])\n",
    "valid_df = train_metadata_df.loc[\n",
    "    train_metadata_df.fold == 1\n",
    "]  # using another fold for validation"
   ]
  },
  {
   "cell_type": "code",
   "execution_count": 74,
   "metadata": {},
   "outputs": [],
   "source": [
    "t_ids = train_df.isic_id.values\n",
    "v_ids = valid_df.isic_id.values"
   ]
  },
  {
   "cell_type": "code",
   "execution_count": 75,
   "metadata": {},
   "outputs": [],
   "source": [
    "for v_id in v_ids:\n",
    "    if v_id in t_ids:\n",
    "        print(v_id)"
   ]
  },
  {
   "cell_type": "code",
   "execution_count": 78,
   "metadata": {},
   "outputs": [],
   "source": [
    "t_ids = train_df.patient_id.values\n",
    "v_ids = valid_df.patient_id.values"
   ]
  },
  {
   "cell_type": "code",
   "execution_count": 79,
   "metadata": {},
   "outputs": [],
   "source": [
    "for v_id in v_ids:\n",
    "    if v_id in t_ids:\n",
    "        print(v_id)"
   ]
  },
  {
   "cell_type": "code",
   "execution_count": 1,
   "metadata": {},
   "outputs": [
    {
     "data": {
      "application/vnd.jupyter.widget-view+json": {
       "model_id": "50247b9b7d32420bacb659ff8d78ebdf",
       "version_major": 2,
       "version_minor": 0
      },
      "text/plain": [
       "interactive(children=(FloatSlider(value=1.0, description='delta', max=5.0, min=0.1), FloatSlider(value=0.0, de…"
      ]
     },
     "metadata": {},
     "output_type": "display_data"
    },
    {
     "data": {
      "text/plain": [
       "<function __main__.plot_loss(delta=1.0, y=0)>"
      ]
     },
     "execution_count": 1,
     "metadata": {},
     "output_type": "execute_result"
    }
   ],
   "source": [
    "import numpy as np\n",
    "import matplotlib.pyplot as plt\n",
    "from ipywidgets import interact, FloatSlider\n",
    "\n",
    "def loss_function(x, y, delta):\n",
    "    diff = x - y\n",
    "    if abs(diff) < delta:\n",
    "        return 0.5 * diff**2\n",
    "    else:\n",
    "        return delta * (abs(diff) - 0.5 * delta)\n",
    "\n",
    "def plot_loss(delta=1.0, y=0):\n",
    "    x = np.linspace(-5, 5, 1000)\n",
    "    l = [loss_function(xi, y, delta) for xi in x]\n",
    "    \n",
    "    plt.figure(figsize=(10, 6))\n",
    "    plt.plot(x, l)\n",
    "    plt.title(f'Loss Function (delta={delta}, y={y})')\n",
    "    plt.xlabel('x')\n",
    "    plt.ylabel('loss')\n",
    "    plt.grid(True)\n",
    "    plt.show()\n",
    "\n",
    "interact(plot_loss, \n",
    "         delta=FloatSlider(min=0.1, max=5.0, step=0.1, value=1.0),\n",
    "         y=FloatSlider(min=-5.0, max=5.0, step=0.1, value=0.0))"
   ]
  },
  {
   "cell_type": "code",
   "execution_count": null,
   "metadata": {},
   "outputs": [],
   "source": []
  }
 ],
 "metadata": {
  "kernelspec": {
   "display_name": "skin",
   "language": "python",
   "name": "python3"
  },
  "language_info": {
   "codemirror_mode": {
    "name": "ipython",
    "version": 3
   },
   "file_extension": ".py",
   "mimetype": "text/x-python",
   "name": "python",
   "nbconvert_exporter": "python",
   "pygments_lexer": "ipython3",
   "version": "3.10.12"
  }
 },
 "nbformat": 4,
 "nbformat_minor": 2
}
