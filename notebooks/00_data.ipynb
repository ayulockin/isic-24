{
 "cells": [
  {
   "cell_type": "code",
   "execution_count": 9,
   "metadata": {},
   "outputs": [],
   "source": [
    "import numpy as np\n",
    "import pandas as pd\n",
    "import pandas.api.types\n",
    "import matplotlib.pyplot as plt\n",
    "from sklearn.preprocessing import OrdinalEncoder\n",
    "from sklearn.metrics import roc_curve, auc, roc_auc_score\n",
    "from sklearn.model_selection import StratifiedGroupKFold\n",
    "\n",
    "import wandb\n",
    "import lightgbm as lgb"
   ]
  },
  {
   "cell_type": "code",
   "execution_count": 13,
   "metadata": {},
   "outputs": [],
   "source": [
    "def get_df_train():\n",
    "    df_train = pd.read_csv(\"../data/train-metadata.csv\")\n",
    "\n",
    "    def feature_engineering(df):\n",
    "        # New features to try...\n",
    "        df[\"lesion_size_ratio\"] = df[\"tbp_lv_minorAxisMM\"] / df[\"clin_size_long_diam_mm\"]\n",
    "        df[\"lesion_shape_index\"] = df[\"tbp_lv_areaMM2\"] / (df[\"tbp_lv_perimeterMM\"] ** 2)\n",
    "        df[\"hue_contrast\"] = (df[\"tbp_lv_H\"] - df[\"tbp_lv_Hext\"]).abs()\n",
    "        df[\"luminance_contrast\"] = (df[\"tbp_lv_L\"] - df[\"tbp_lv_Lext\"]).abs()\n",
    "        df[\"lesion_color_difference\"] = np.sqrt(df[\"tbp_lv_deltaA\"] ** 2 + df[\"tbp_lv_deltaB\"] ** 2 + df[\"tbp_lv_deltaL\"] ** 2)\n",
    "        df[\"border_complexity\"] = df[\"tbp_lv_norm_border\"] + df[\"tbp_lv_symm_2axis\"]\n",
    "        df[\"color_uniformity\"] = df[\"tbp_lv_color_std_mean\"] / df[\"tbp_lv_radial_color_std_max\"]\n",
    "        df[\"3d_position_distance\"] = np.sqrt(df[\"tbp_lv_x\"] ** 2 + df[\"tbp_lv_y\"] ** 2 + df[\"tbp_lv_z\"] ** 2) \n",
    "        df[\"perimeter_to_area_ratio\"] = df[\"tbp_lv_perimeterMM\"] / df[\"tbp_lv_areaMM2\"]\n",
    "        df[\"lesion_visibility_score\"] = df[\"tbp_lv_deltaLBnorm\"] + df[\"tbp_lv_norm_color\"]\n",
    "        df[\"combined_anatomical_site\"] = df[\"anatom_site_general\"] + \"_\" + df[\"tbp_lv_location\"]\n",
    "        df[\"symmetry_border_consistency\"] = df[\"tbp_lv_symm_2axis\"] * df[\"tbp_lv_norm_border\"]\n",
    "        df[\"color_consistency\"] = df[\"tbp_lv_stdL\"] / df[\"tbp_lv_Lext\"]\n",
    "\n",
    "        df[\"size_age_interaction\"] = df[\"clin_size_long_diam_mm\"] * df[\"age_approx\"]\n",
    "        df[\"hue_color_std_interaction\"] = df[\"tbp_lv_H\"] * df[\"tbp_lv_color_std_mean\"]\n",
    "        df[\"lesion_severity_index\"] = (df[\"tbp_lv_norm_border\"] + df[\"tbp_lv_norm_color\"] + df[\"tbp_lv_eccentricity\"]) / 3\n",
    "        df[\"shape_complexity_index\"] = df[\"border_complexity\"] + df[\"lesion_shape_index\"]\n",
    "        df[\"color_contrast_index\"] = df[\"tbp_lv_deltaA\"] + df[\"tbp_lv_deltaB\"] + df[\"tbp_lv_deltaL\"] + df[\"tbp_lv_deltaLBnorm\"]\n",
    "        df[\"log_lesion_area\"] = np.log(df[\"tbp_lv_areaMM2\"] + 1)\n",
    "        df[\"normalized_lesion_size\"] = df[\"clin_size_long_diam_mm\"] / df[\"age_approx\"]\n",
    "        df[\"mean_hue_difference\"] = (df[\"tbp_lv_H\"] + df[\"tbp_lv_Hext\"]) / 2\n",
    "        df[\"std_dev_contrast\"] = np.sqrt((df[\"tbp_lv_deltaA\"] ** 2 + df[\"tbp_lv_deltaB\"] ** 2 + df[\"tbp_lv_deltaL\"] ** 2) / 3)\n",
    "        df[\"color_shape_composite_index\"] = (df[\"tbp_lv_color_std_mean\"] + df[\"tbp_lv_area_perim_ratio\"] + df[\"tbp_lv_symm_2axis\"]) / 3\n",
    "        df[\"3d_lesion_orientation\"] = np.arctan2(df_train[\"tbp_lv_y\"], df_train[\"tbp_lv_x\"])\n",
    "        df[\"overall_color_difference\"] = (df[\"tbp_lv_deltaA\"] + df[\"tbp_lv_deltaB\"] + df[\"tbp_lv_deltaL\"]) / 3\n",
    "        df[\"symmetry_perimeter_interaction\"] = df[\"tbp_lv_symm_2axis\"] * df[\"tbp_lv_perimeterMM\"]\n",
    "        df[\"comprehensive_lesion_index\"] = (df[\"tbp_lv_area_perim_ratio\"] + df[\"tbp_lv_eccentricity\"] + df[\"tbp_lv_norm_color\"] + df[\"tbp_lv_symm_2axis\"]) / 4\n",
    "\n",
    "        # Taken from: https://www.kaggle.com/code/dschettler8845/isic-detect-skin-cancer-let-s-learn-together\n",
    "        df[\"color_variance_ratio\"] = df[\"tbp_lv_color_std_mean\"] / df[\"tbp_lv_stdLExt\"]\n",
    "        df[\"border_color_interaction\"] = df[\"tbp_lv_norm_border\"] * df[\"tbp_lv_norm_color\"]\n",
    "        df[\"size_color_contrast_ratio\"] = df[\"clin_size_long_diam_mm\"] / df[\"tbp_lv_deltaLBnorm\"]\n",
    "        df[\"age_normalized_nevi_confidence\"] = df[\"tbp_lv_nevi_confidence\"] / df[\"age_approx\"]\n",
    "        df[\"color_asymmetry_index\"] = df[\"tbp_lv_radial_color_std_max\"] * df[\"tbp_lv_symm_2axis\"]\n",
    "        df[\"3d_volume_approximation\"] = df[\"tbp_lv_areaMM2\"] * np.sqrt(df[\"tbp_lv_x\"]**2 + df[\"tbp_lv_y\"]**2 + df[\"tbp_lv_z\"]**2)\n",
    "        df[\"color_range\"] = (df[\"tbp_lv_L\"] - df[\"tbp_lv_Lext\"]).abs() + (df[\"tbp_lv_A\"] - df[\"tbp_lv_Aext\"]).abs() + (df[\"tbp_lv_B\"] - df[\"tbp_lv_Bext\"]).abs()\n",
    "        df[\"shape_color_consistency\"] = df[\"tbp_lv_eccentricity\"] * df[\"tbp_lv_color_std_mean\"]\n",
    "        df[\"border_length_ratio\"] = df[\"tbp_lv_perimeterMM\"] / (2 * np.pi * np.sqrt(df[\"tbp_lv_areaMM2\"] / np.pi))\n",
    "        df[\"age_size_symmetry_index\"] = df[\"age_approx\"] * df[\"clin_size_long_diam_mm\"] * df[\"tbp_lv_symm_2axis\"]\n",
    "        # Until here.\n",
    "        \n",
    "        new_num_cols = [\n",
    "            \"lesion_size_ratio\", \"lesion_shape_index\", \"hue_contrast\",\n",
    "            \"luminance_contrast\", \"lesion_color_difference\", \"border_complexity\",\n",
    "            \"color_uniformity\", \"3d_position_distance\", \"perimeter_to_area_ratio\",\n",
    "            \"lesion_visibility_score\", \"symmetry_border_consistency\", \"color_consistency\",\n",
    "\n",
    "            \"size_age_interaction\", \"hue_color_std_interaction\", \"lesion_severity_index\", \n",
    "            \"shape_complexity_index\", \"color_contrast_index\", \"log_lesion_area\",\n",
    "            \"normalized_lesion_size\", \"mean_hue_difference\", \"std_dev_contrast\",\n",
    "            \"color_shape_composite_index\", \"3d_lesion_orientation\", \"overall_color_difference\",\n",
    "            \"symmetry_perimeter_interaction\", \"comprehensive_lesion_index\",\n",
    "            \n",
    "            \"color_variance_ratio\", \"border_color_interaction\", \"size_color_contrast_ratio\",\n",
    "            \"age_normalized_nevi_confidence\", \"color_asymmetry_index\", \"3d_volume_approximation\",\n",
    "            \"color_range\", \"shape_color_consistency\", \"border_length_ratio\", \"age_size_symmetry_index\",\n",
    "        ]\n",
    "        new_cat_cols = [\"combined_anatomical_site\"]\n",
    "        return df, new_num_cols, new_cat_cols\n",
    "\n",
    "    num_cols = [\n",
    "        'age_approx', 'clin_size_long_diam_mm', 'tbp_lv_A', 'tbp_lv_Aext', 'tbp_lv_B', 'tbp_lv_Bext', \n",
    "        'tbp_lv_C', 'tbp_lv_Cext', 'tbp_lv_H', 'tbp_lv_Hext', 'tbp_lv_L', \n",
    "        'tbp_lv_Lext', 'tbp_lv_areaMM2', 'tbp_lv_area_perim_ratio', 'tbp_lv_color_std_mean', \n",
    "        'tbp_lv_deltaA', 'tbp_lv_deltaB', 'tbp_lv_deltaL', 'tbp_lv_deltaLB',\n",
    "        'tbp_lv_deltaLBnorm', 'tbp_lv_eccentricity', 'tbp_lv_minorAxisMM',\n",
    "        'tbp_lv_nevi_confidence', 'tbp_lv_norm_border', 'tbp_lv_norm_color',\n",
    "        'tbp_lv_perimeterMM', 'tbp_lv_radial_color_std_max', 'tbp_lv_stdL',\n",
    "        'tbp_lv_stdLExt', 'tbp_lv_symm_2axis', 'tbp_lv_symm_2axis_angle',\n",
    "        'tbp_lv_x', 'tbp_lv_y', 'tbp_lv_z',\n",
    "    ]\n",
    "    df_train[num_cols] = df_train[num_cols].fillna(df_train[num_cols].median())\n",
    "    df_train, new_num_cols, new_cat_cols = feature_engineering(df_train.copy())\n",
    "    num_cols += new_num_cols\n",
    "    # anatom_site_general\n",
    "    cat_cols = [\"sex\", \"tbp_tile_type\", \"tbp_lv_location\", \"tbp_lv_location_simple\"] + new_cat_cols\n",
    "    train_cols = num_cols + cat_cols\n",
    "\n",
    "    category_encoder = OrdinalEncoder(\n",
    "        categories='auto',\n",
    "        dtype=int,\n",
    "        handle_unknown='use_encoded_value',\n",
    "        unknown_value=-2,\n",
    "        encoded_missing_value=-1,\n",
    "    )\n",
    "\n",
    "    X_cat = category_encoder.fit_transform(df_train[cat_cols])\n",
    "    for c, cat_col in enumerate(cat_cols):\n",
    "        df_train[cat_col] = X_cat[:, c]\n",
    "\n",
    "    return df_train, train_cols"
   ]
  },
  {
   "cell_type": "code",
   "execution_count": 14,
   "metadata": {},
   "outputs": [],
   "source": [
    "def comp_score(solution: pd.DataFrame, submission: pd.DataFrame, row_id_column_name: str, min_tpr: float=0.80):\n",
    "    v_gt = abs(np.asarray(solution.values)-1)\n",
    "    v_pred = np.array([1.0 - x for x in submission.values])\n",
    "    max_fpr = abs(1-min_tpr)\n",
    "    partial_auc_scaled = roc_auc_score(v_gt, v_pred, max_fpr=max_fpr)\n",
    "    # change scale from [0.5, 1.0] to [0.5 * max_fpr**2, max_fpr]\n",
    "    # https://math.stackexchange.com/questions/914823/shift-numbers-into-a-different-range\n",
    "    partial_auc = 0.5 * max_fpr**2 + (max_fpr - 0.5 * max_fpr**2) / (1.0 - 0.5) * (partial_auc_scaled - 0.5)\n",
    "    return partial_auc\n",
    "\n",
    "\n",
    "lgb_params =  {\n",
    "    \"objective\": \"binary\",\n",
    "    \"verbosity\": -1,\n",
    "    \"boosting_type\": \"gbdt\",\n",
    "    \"n_estimators\": 531, # 200,\n",
    "    'learning_rate': 0.020961882958412847, # 0.05,    \n",
    "    'lambda_l1': 0.031850406238810657, #0.0004681884533249742, \n",
    "    'lambda_l2': 9.352820586794987, # 8.765240856362274, \n",
    "    'num_leaves': 60, # 136, \n",
    "    'feature_fraction': 0.5270436775267011, # 0.5392005444882538, \n",
    "    'bagging_fraction': 0.9745808187865352, # 0.9577412548866563, \n",
    "    'bagging_freq': 9, # 6,\n",
    "    'min_child_samples': 65, # 60,\n",
    "    \"device\": \"gpu\"\n",
    "}"
   ]
  },
  {
   "cell_type": "code",
   "execution_count": 17,
   "metadata": {},
   "outputs": [
    {
     "data": {
      "text/html": [
       "Finishing last run (ID:f6hhh8vw) before initializing another..."
      ],
      "text/plain": [
       "<IPython.core.display.HTML object>"
      ]
     },
     "metadata": {},
     "output_type": "display_data"
    },
    {
     "data": {
      "application/vnd.jupyter.widget-view+json": {
       "model_id": "b3db97ee6c2c4feaa8218643e17d0a2c",
       "version_major": 2,
       "version_minor": 0
      },
      "text/plain": [
       "VBox(children=(Label(value='0.026 MB of 0.026 MB uploaded\\r'), FloatProgress(value=1.0, max=1.0)))"
      ]
     },
     "metadata": {},
     "output_type": "display_data"
    },
    {
     "data": {
      "text/html": [
       " View run <strong style=\"color:#cdcd00\">fresh-snow-741</strong> at: <a href='https://wandb.ai/ayush-thakur/isic_lesions_24/runs/f6hhh8vw' target=\"_blank\">https://wandb.ai/ayush-thakur/isic_lesions_24/runs/f6hhh8vw</a><br/> View project at: <a href='https://wandb.ai/ayush-thakur/isic_lesions_24' target=\"_blank\">https://wandb.ai/ayush-thakur/isic_lesions_24</a><br/>Synced 7 W&B file(s), 0 media file(s), 0 artifact file(s) and 0 other file(s)"
      ],
      "text/plain": [
       "<IPython.core.display.HTML object>"
      ]
     },
     "metadata": {},
     "output_type": "display_data"
    },
    {
     "data": {
      "text/html": [
       "Find logs at: <code>./wandb/run-20240721_133556-f6hhh8vw/logs</code>"
      ],
      "text/plain": [
       "<IPython.core.display.HTML object>"
      ]
     },
     "metadata": {},
     "output_type": "display_data"
    },
    {
     "data": {
      "text/html": [
       "The new W&B backend becomes opt-out in version 0.18.0; try it out with `wandb.require(\"core\")`! See https://wandb.me/wandb-core for more information."
      ],
      "text/plain": [
       "<IPython.core.display.HTML object>"
      ]
     },
     "metadata": {},
     "output_type": "display_data"
    },
    {
     "data": {
      "text/html": [
       "Successfully finished last run (ID:f6hhh8vw). Initializing new run:<br/>"
      ],
      "text/plain": [
       "<IPython.core.display.HTML object>"
      ]
     },
     "metadata": {},
     "output_type": "display_data"
    },
    {
     "data": {
      "application/vnd.jupyter.widget-view+json": {
       "model_id": "14e3453019d54f7aa67d44b36e0a8a92",
       "version_major": 2,
       "version_minor": 0
      },
      "text/plain": [
       "VBox(children=(Label(value='Waiting for wandb.init()...\\r'), FloatProgress(value=0.011112431147032314, max=1.0…"
      ]
     },
     "metadata": {},
     "output_type": "display_data"
    },
    {
     "data": {
      "text/html": [
       "wandb version 0.17.5 is available!  To upgrade, please run:\n",
       " $ pip install wandb --upgrade"
      ],
      "text/plain": [
       "<IPython.core.display.HTML object>"
      ]
     },
     "metadata": {},
     "output_type": "display_data"
    },
    {
     "data": {
      "text/html": [
       "Tracking run with wandb version 0.17.4"
      ],
      "text/plain": [
       "<IPython.core.display.HTML object>"
      ]
     },
     "metadata": {},
     "output_type": "display_data"
    },
    {
     "data": {
      "text/html": [
       "Run data is saved locally in <code>/home/ubuntu/ayusht/skin/notebooks/wandb/run-20240721_133629-rbprxl7y</code>"
      ],
      "text/plain": [
       "<IPython.core.display.HTML object>"
      ]
     },
     "metadata": {},
     "output_type": "display_data"
    },
    {
     "data": {
      "text/html": [
       "Syncing run <strong><a href='https://wandb.ai/ayush-thakur/isic_lesions_24/runs/rbprxl7y' target=\"_blank\">swept-haze-742</a></strong> to <a href='https://wandb.ai/ayush-thakur/isic_lesions_24' target=\"_blank\">Weights & Biases</a> (<a href='https://wandb.me/run' target=\"_blank\">docs</a>)<br/>"
      ],
      "text/plain": [
       "<IPython.core.display.HTML object>"
      ]
     },
     "metadata": {},
     "output_type": "display_data"
    },
    {
     "data": {
      "text/html": [
       " View project at <a href='https://wandb.ai/ayush-thakur/isic_lesions_24' target=\"_blank\">https://wandb.ai/ayush-thakur/isic_lesions_24</a>"
      ],
      "text/plain": [
       "<IPython.core.display.HTML object>"
      ]
     },
     "metadata": {},
     "output_type": "display_data"
    },
    {
     "data": {
      "text/html": [
       " View run at <a href='https://wandb.ai/ayush-thakur/isic_lesions_24/runs/rbprxl7y' target=\"_blank\">https://wandb.ai/ayush-thakur/isic_lesions_24/runs/rbprxl7y</a>"
      ],
      "text/plain": [
       "<IPython.core.display.HTML object>"
      ]
     },
     "metadata": {},
     "output_type": "display_data"
    },
    {
     "name": "stderr",
     "output_type": "stream",
     "text": [
      "/tmp/ipykernel_1106009/2676369238.py:2: DtypeWarning: Columns (51,52) have mixed types. Specify dtype option on import or set low_memory=False.\n",
      "  df_train = pd.read_csv(\"../data/train-metadata.csv\")\n"
     ]
    },
    {
     "name": "stdout",
     "output_type": "stream",
     "text": [
      "fold: 0 - Partial AUC Score: 0.15837\n",
      "fold: 1 - Partial AUC Score: 0.14839\n",
      "LGBM Score: 0.15338\n",
      "LGBM Score std: 0.00499\n"
     ]
    },
    {
     "name": "stderr",
     "output_type": "stream",
     "text": [
      "/tmp/ipykernel_1106009/2676369238.py:2: DtypeWarning: Columns (51,52) have mixed types. Specify dtype option on import or set low_memory=False.\n",
      "  df_train = pd.read_csv(\"../data/train-metadata.csv\")\n"
     ]
    },
    {
     "name": "stdout",
     "output_type": "stream",
     "text": [
      "fold: 0 - Partial AUC Score: 0.15866\n",
      "fold: 1 - Partial AUC Score: 0.15181\n",
      "fold: 2 - Partial AUC Score: 0.16515\n",
      "LGBM Score: 0.15854\n",
      "LGBM Score std: 0.00545\n"
     ]
    },
    {
     "name": "stderr",
     "output_type": "stream",
     "text": [
      "/tmp/ipykernel_1106009/2676369238.py:2: DtypeWarning: Columns (51,52) have mixed types. Specify dtype option on import or set low_memory=False.\n",
      "  df_train = pd.read_csv(\"../data/train-metadata.csv\")\n"
     ]
    },
    {
     "name": "stdout",
     "output_type": "stream",
     "text": [
      "fold: 0 - Partial AUC Score: 0.15851\n",
      "fold: 1 - Partial AUC Score: 0.14347\n",
      "fold: 2 - Partial AUC Score: 0.16908\n",
      "fold: 3 - Partial AUC Score: 0.16307\n",
      "LGBM Score: 0.15854\n",
      "LGBM Score std: 0.00947\n"
     ]
    },
    {
     "name": "stderr",
     "output_type": "stream",
     "text": [
      "/tmp/ipykernel_1106009/2676369238.py:2: DtypeWarning: Columns (51,52) have mixed types. Specify dtype option on import or set low_memory=False.\n",
      "  df_train = pd.read_csv(\"../data/train-metadata.csv\")\n"
     ]
    },
    {
     "name": "stdout",
     "output_type": "stream",
     "text": [
      "fold: 0 - Partial AUC Score: 0.17203\n",
      "fold: 1 - Partial AUC Score: 0.14806\n",
      "fold: 2 - Partial AUC Score: 0.17046\n",
      "fold: 3 - Partial AUC Score: 0.15567\n",
      "fold: 4 - Partial AUC Score: 0.15677\n",
      "LGBM Score: 0.16060\n",
      "LGBM Score std: 0.00921\n"
     ]
    },
    {
     "name": "stderr",
     "output_type": "stream",
     "text": [
      "/tmp/ipykernel_1106009/2676369238.py:2: DtypeWarning: Columns (51,52) have mixed types. Specify dtype option on import or set low_memory=False.\n",
      "  df_train = pd.read_csv(\"../data/train-metadata.csv\")\n"
     ]
    },
    {
     "name": "stdout",
     "output_type": "stream",
     "text": [
      "fold: 0 - Partial AUC Score: 0.14764\n",
      "fold: 1 - Partial AUC Score: 0.12947\n",
      "fold: 2 - Partial AUC Score: 0.16224\n",
      "fold: 3 - Partial AUC Score: 0.16689\n",
      "fold: 4 - Partial AUC Score: 0.18061\n",
      "fold: 5 - Partial AUC Score: 0.17656\n",
      "LGBM Score: 0.16057\n",
      "LGBM Score std: 0.01748\n"
     ]
    },
    {
     "name": "stderr",
     "output_type": "stream",
     "text": [
      "/tmp/ipykernel_1106009/2676369238.py:2: DtypeWarning: Columns (51,52) have mixed types. Specify dtype option on import or set low_memory=False.\n",
      "  df_train = pd.read_csv(\"../data/train-metadata.csv\")\n"
     ]
    },
    {
     "name": "stdout",
     "output_type": "stream",
     "text": [
      "fold: 0 - Partial AUC Score: 0.13381\n",
      "fold: 1 - Partial AUC Score: 0.15973\n",
      "fold: 2 - Partial AUC Score: 0.17148\n",
      "fold: 3 - Partial AUC Score: 0.16169\n",
      "fold: 4 - Partial AUC Score: 0.18147\n",
      "fold: 5 - Partial AUC Score: 0.16447\n",
      "fold: 6 - Partial AUC Score: 0.14067\n",
      "LGBM Score: 0.15904\n",
      "LGBM Score std: 0.01544\n"
     ]
    },
    {
     "name": "stderr",
     "output_type": "stream",
     "text": [
      "/tmp/ipykernel_1106009/2676369238.py:2: DtypeWarning: Columns (51,52) have mixed types. Specify dtype option on import or set low_memory=False.\n",
      "  df_train = pd.read_csv(\"../data/train-metadata.csv\")\n"
     ]
    },
    {
     "name": "stdout",
     "output_type": "stream",
     "text": [
      "fold: 0 - Partial AUC Score: 0.15620\n",
      "fold: 1 - Partial AUC Score: 0.15397\n",
      "fold: 2 - Partial AUC Score: 0.15595\n",
      "fold: 3 - Partial AUC Score: 0.16117\n",
      "fold: 4 - Partial AUC Score: 0.17933\n",
      "fold: 5 - Partial AUC Score: 0.15527\n",
      "fold: 6 - Partial AUC Score: 0.17564\n",
      "fold: 7 - Partial AUC Score: 0.14949\n",
      "LGBM Score: 0.16088\n",
      "LGBM Score std: 0.01008\n"
     ]
    },
    {
     "name": "stderr",
     "output_type": "stream",
     "text": [
      "/tmp/ipykernel_1106009/2676369238.py:2: DtypeWarning: Columns (51,52) have mixed types. Specify dtype option on import or set low_memory=False.\n",
      "  df_train = pd.read_csv(\"../data/train-metadata.csv\")\n"
     ]
    },
    {
     "name": "stdout",
     "output_type": "stream",
     "text": [
      "fold: 0 - Partial AUC Score: 0.18225\n",
      "fold: 1 - Partial AUC Score: 0.17077\n",
      "fold: 2 - Partial AUC Score: 0.16586\n",
      "fold: 3 - Partial AUC Score: 0.16742\n",
      "fold: 4 - Partial AUC Score: 0.17606\n",
      "fold: 5 - Partial AUC Score: 0.14638\n",
      "fold: 6 - Partial AUC Score: 0.13956\n",
      "fold: 7 - Partial AUC Score: 0.17297\n",
      "fold: 8 - Partial AUC Score: 0.14391\n",
      "LGBM Score: 0.16280\n",
      "LGBM Score std: 0.01460\n"
     ]
    },
    {
     "name": "stderr",
     "output_type": "stream",
     "text": [
      "/tmp/ipykernel_1106009/2676369238.py:2: DtypeWarning: Columns (51,52) have mixed types. Specify dtype option on import or set low_memory=False.\n",
      "  df_train = pd.read_csv(\"../data/train-metadata.csv\")\n"
     ]
    },
    {
     "name": "stdout",
     "output_type": "stream",
     "text": [
      "fold: 0 - Partial AUC Score: 0.12951\n",
      "fold: 1 - Partial AUC Score: 0.15516\n",
      "fold: 2 - Partial AUC Score: 0.16483\n",
      "fold: 3 - Partial AUC Score: 0.15944\n",
      "fold: 4 - Partial AUC Score: 0.17367\n",
      "fold: 5 - Partial AUC Score: 0.17705\n",
      "fold: 6 - Partial AUC Score: 0.18102\n",
      "fold: 7 - Partial AUC Score: 0.14212\n",
      "fold: 8 - Partial AUC Score: 0.14792\n",
      "fold: 9 - Partial AUC Score: 0.16676\n",
      "LGBM Score: 0.15975\n",
      "LGBM Score std: 0.01551\n"
     ]
    }
   ],
   "source": [
    "splits = np.arange(2,11)\n",
    "\n",
    "splits_df = []\n",
    "\n",
    "run = wandb.init(project=\"isic_lesions_24\", job_type=\"lgbm_train_split\")\n",
    "\n",
    "for split in splits:\n",
    "    df_train, train_cols = get_df_train()\n",
    "    gkf = StratifiedGroupKFold(n_splits=split)\n",
    "    df_train[\"fold\"] = -1\n",
    "\n",
    "    for idx, (train_idx, val_idx) in enumerate(\n",
    "        gkf.split(df_train, df_train[\"target\"], groups=df_train[\"patient_id\"])\n",
    "    ):\n",
    "        df_train.loc[val_idx, \"fold\"] = idx\n",
    "    df_train.to_csv(f\"../data/splits/stratified_split_num_{split}.csv\", index=False)\n",
    "\n",
    "    scores = []\n",
    "    models = []\n",
    "    targets = []\n",
    "    preds_fold = []\n",
    "    for fold in range(split):\n",
    "        _df_train = df_train[df_train[\"fold\"] != fold].reset_index(drop=True)\n",
    "        _df_valid = df_train[df_train[\"fold\"] == fold].reset_index(drop=True)\n",
    "        model = lgb.LGBMRegressor(\n",
    "            **lgb_params\n",
    "        )\n",
    "        model.fit(_df_train[train_cols], _df_train[\"target\"])\n",
    "        preds = model.predict(_df_valid[train_cols])\n",
    "        score = comp_score(_df_valid[[\"target\"]], pd.DataFrame(preds, columns=[\"prediction\"]), \"\")\n",
    "        print(f\"fold: {fold} - Partial AUC Score: {score:.5f}\")\n",
    "\n",
    "        targets.extend(_df_valid[\"target\"])\n",
    "        preds_fold.extend(preds)\n",
    "\n",
    "        scores.append(score)\n",
    "        models.append(model)\n",
    "\n",
    "    score = np.mean(scores)\n",
    "    score_std = np.std(scores)\n",
    "    print(f\"LGBM Score: {score:.5f}\")\n",
    "    print(f\"LGBM Score std: {score_std:.5f}\")\n",
    "    wandb.log({\"pAUC\": score, \"pAUC std\": score_std})"
   ]
  },
  {
   "cell_type": "code",
   "execution_count": 18,
   "metadata": {},
   "outputs": [
    {
     "data": {
      "application/vnd.jupyter.widget-view+json": {
       "model_id": "0773f4d482d3401bb052e61f72090f53",
       "version_major": 2,
       "version_minor": 0
      },
      "text/plain": [
       "VBox(children=(Label(value='0.026 MB of 0.026 MB uploaded\\r'), FloatProgress(value=1.0, max=1.0)))"
      ]
     },
     "metadata": {},
     "output_type": "display_data"
    },
    {
     "data": {
      "text/html": [
       "<style>\n",
       "    table.wandb td:nth-child(1) { padding: 0 10px; text-align: left ; width: auto;} td:nth-child(2) {text-align: left ; width: 100%}\n",
       "    .wandb-row { display: flex; flex-direction: row; flex-wrap: wrap; justify-content: flex-start; width: 100% }\n",
       "    .wandb-col { display: flex; flex-direction: column; flex-basis: 100%; flex: 1; padding: 10px; }\n",
       "    </style>\n",
       "<div class=\"wandb-row\"><div class=\"wandb-col\"><h3>Run history:</h3><br/><table class=\"wandb\"><tr><td>pAUC</td><td>▁▅▅▆▆▅▇█▆</td></tr><tr><td>pAUC std</td><td>▁▁▄▃█▇▄▆▇</td></tr></table><br/></div><div class=\"wandb-col\"><h3>Run summary:</h3><br/><table class=\"wandb\"><tr><td>pAUC</td><td>0.15975</td></tr><tr><td>pAUC std</td><td>0.01551</td></tr></table><br/></div></div>"
      ],
      "text/plain": [
       "<IPython.core.display.HTML object>"
      ]
     },
     "metadata": {},
     "output_type": "display_data"
    },
    {
     "data": {
      "text/html": [
       " View run <strong style=\"color:#cdcd00\">swept-haze-742</strong> at: <a href='https://wandb.ai/ayush-thakur/isic_lesions_24/runs/rbprxl7y' target=\"_blank\">https://wandb.ai/ayush-thakur/isic_lesions_24/runs/rbprxl7y</a><br/> View project at: <a href='https://wandb.ai/ayush-thakur/isic_lesions_24' target=\"_blank\">https://wandb.ai/ayush-thakur/isic_lesions_24</a><br/>Synced 7 W&B file(s), 0 media file(s), 0 artifact file(s) and 0 other file(s)"
      ],
      "text/plain": [
       "<IPython.core.display.HTML object>"
      ]
     },
     "metadata": {},
     "output_type": "display_data"
    },
    {
     "data": {
      "text/html": [
       "Find logs at: <code>./wandb/run-20240721_133629-rbprxl7y/logs</code>"
      ],
      "text/plain": [
       "<IPython.core.display.HTML object>"
      ]
     },
     "metadata": {},
     "output_type": "display_data"
    },
    {
     "data": {
      "text/html": [
       "The new W&B backend becomes opt-out in version 0.18.0; try it out with `wandb.require(\"core\")`! See https://wandb.me/wandb-core for more information."
      ],
      "text/plain": [
       "<IPython.core.display.HTML object>"
      ]
     },
     "metadata": {},
     "output_type": "display_data"
    }
   ],
   "source": [
    "run.finish()"
   ]
  },
  {
   "cell_type": "code",
   "execution_count": null,
   "metadata": {},
   "outputs": [],
   "source": []
  }
 ],
 "metadata": {
  "kernelspec": {
   "display_name": "skin",
   "language": "python",
   "name": "python3"
  },
  "language_info": {
   "codemirror_mode": {
    "name": "ipython",
    "version": 3
   },
   "file_extension": ".py",
   "mimetype": "text/x-python",
   "name": "python",
   "nbconvert_exporter": "python",
   "pygments_lexer": "ipython3",
   "version": "3.10.12"
  }
 },
 "nbformat": 4,
 "nbformat_minor": 2
}
