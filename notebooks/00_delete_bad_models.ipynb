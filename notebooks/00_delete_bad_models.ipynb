{
 "cells": [
  {
   "cell_type": "code",
   "execution_count": 6,
   "metadata": {},
   "outputs": [],
   "source": [
    "import os\n",
    "import re\n",
    "from glob import glob"
   ]
  },
  {
   "cell_type": "code",
   "execution_count": 7,
   "metadata": {},
   "outputs": [],
   "source": [
    "models = glob(\"../models/*.bin\")"
   ]
  },
  {
   "cell_type": "code",
   "execution_count": 8,
   "metadata": {},
   "outputs": [],
   "source": [
    "def keep_best_models(model_paths):\n",
    "    model_dict = {}\n",
    "    pattern = re.compile(r'^(.*)_(.*)_valid_loss([0-9.]+)_epoch([0-9]+).bin$')\n",
    "\n",
    "    for path in model_paths:\n",
    "        filename = os.path.basename(path)\n",
    "        match = pattern.match(filename)\n",
    "        if match:\n",
    "            model_name, experiment_id, valid_loss, epoch = match.groups()\n",
    "            valid_loss = float(valid_loss)\n",
    "            unique_id = f\"{model_name}_{experiment_id}\"\n",
    "            \n",
    "            if unique_id not in model_dict or model_dict[unique_id]['valid_loss'] > valid_loss:\n",
    "                model_dict[unique_id] = {\n",
    "                    'path': path,\n",
    "                    'valid_loss': valid_loss\n",
    "                }\n",
    "\n",
    "    # Paths of models to keep\n",
    "    best_model_paths = [info['path'] for info in model_dict.values()]\n",
    "\n",
    "    # Paths of models to delete\n",
    "    all_model_paths = set(model_paths)\n",
    "    delete_model_paths = all_model_paths - set(best_model_paths)\n",
    "    \n",
    "    return best_model_paths, delete_model_paths"
   ]
  },
  {
   "cell_type": "code",
   "execution_count": 9,
   "metadata": {},
   "outputs": [],
   "source": [
    "best_model_paths, delete_model_paths = keep_best_models(models)"
   ]
  },
  {
   "cell_type": "code",
   "execution_count": 10,
   "metadata": {},
   "outputs": [
    {
     "data": {
      "text/plain": [
       "['../models/pretrain_best_valid_loss0.0644_epoch8.bin',\n",
       " '../models/efficientnet_v2_s_x8dbzy5x_valid_loss0.36058661341667175_epoch9.bin',\n",
       " '../models/efficientnet_v2_s_g6mbhxvy_valid_loss5.4755730628967285_epoch22.bin',\n",
       " '../models/efficientnet_v2_s_qv3qdl25_valid_loss7.128454685211182_epoch2.bin',\n",
       " '../models/efficientnet_v2_s_0e4caybo_valid_loss5.801234245300293_epoch24.bin',\n",
       " '../models/efficientnet_v2_s_ydy7t975_valid_loss8.100177764892578_epoch0.bin',\n",
       " '../models/efficientnet_v2_s_boecli48_valid_loss5.71213436126709_epoch18.bin',\n",
       " '../models/efficientnet_v2_s_fxprn7uc_valid_loss3.7733681201934814_epoch0.bin',\n",
       " '../models/efficientnet_v2_s_7tzyyndv_valid_loss4.630868434906006_epoch18.bin',\n",
       " '../models/efficientnet_v2_s_enxwbyys_valid_loss5.525981903076172_epoch25.bin',\n",
       " '../models/efficientnet_v2_s_lmfhy5jn_valid_loss20807.064453125_epoch2.bin',\n",
       " '../models/efficientnet_v2_s_r48h8o37_valid_loss4399.478515625_epoch0.bin',\n",
       " '../models/efficientnet_v2_s_ladxeeek_valid_loss5.642144203186035_epoch14.bin',\n",
       " '../models/efficientnet_v2_s_qkjqdyt7_valid_loss10.56924819946289_epoch10.bin',\n",
       " '../models/efficientnet_v2_s_my6buvg0_valid_loss2.7176403999328613_epoch15.bin',\n",
       " '../models/efficientnet_v2_s_ic3l3sym_valid_loss2.607573986053467_epoch20.bin',\n",
       " '../models/efficientnet_v2_s_x9qy8gwa_valid_loss3.6456334590911865_epoch6.bin',\n",
       " '../models/efficientnet_v2_s_8jqxioyv_valid_loss1.3055330514907837_epoch20.bin',\n",
       " '../models/efficientnet_v2_s_sai4ucuy_valid_loss1.4137327671051025_epoch21.bin',\n",
       " '../models/efficientnet_v2_s_ckot7j34_valid_loss2.3772799968719482_epoch3.bin',\n",
       " '../models/efficientnet_v2_s_o8gwq9mh_valid_loss1.5666254758834839_epoch28.bin',\n",
       " '../models/efficientnet_v2_s_q37691gr_valid_loss0.00011174177780048922_epoch13.bin',\n",
       " '../models/efficientnet_v2_s_et8zbzbg_valid_loss1.4331852197647095_epoch30.bin']"
      ]
     },
     "execution_count": 10,
     "metadata": {},
     "output_type": "execute_result"
    }
   ],
   "source": [
    "best_model_paths"
   ]
  },
  {
   "cell_type": "code",
   "execution_count": 11,
   "metadata": {},
   "outputs": [],
   "source": [
    "def delete_models(models_to_delete):\n",
    "    for model_path in models_to_delete:\n",
    "        try:\n",
    "            os.remove(model_path)\n",
    "            print(f\"Deleted: {model_path}\")\n",
    "        except Exception as e:\n",
    "            print(f\"Error deleting {model_path}: {e}\")"
   ]
  },
  {
   "cell_type": "code",
   "execution_count": 12,
   "metadata": {},
   "outputs": [
    {
     "name": "stdout",
     "output_type": "stream",
     "text": [
      "Deleted: ../models/efficientnet_v2_s_x9qy8gwa_valid_loss4.227214813232422_epoch3.bin\n",
      "Deleted: ../models/efficientnet_v2_s_boecli48_valid_loss5.824763298034668_epoch13.bin\n",
      "Deleted: ../models/efficientnet_v2_s_o8gwq9mh_valid_loss1.9443857669830322_epoch5.bin\n",
      "Deleted: ../models/efficientnet_v2_s_enxwbyys_valid_loss124183.9609375_epoch0.bin\n",
      "Deleted: ../models/efficientnet_v2_s_boecli48_valid_loss6.835475444793701_epoch9.bin\n",
      "Deleted: ../models/efficientnet_v2_s_enxwbyys_valid_loss10.483138084411621_epoch13.bin\n",
      "Deleted: ../models/efficientnet_v2_s_0e4caybo_valid_loss8.100177764892578_epoch0.bin\n",
      "Deleted: ../models/efficientnet_v2_s_o8gwq9mh_valid_loss3.3030357360839844_epoch1.bin\n",
      "Deleted: ../models/efficientnet_v2_s_7tzyyndv_valid_loss10.445601463317871_epoch0.bin\n",
      "Deleted: ../models/efficientnet_v2_s_o8gwq9mh_valid_loss2.6665029525756836_epoch2.bin\n",
      "Deleted: ../models/efficientnet_v2_s_o8gwq9mh_valid_loss1.7181283235549927_epoch13.bin\n",
      "Deleted: ../models/efficientnet_v2_s_boecli48_valid_loss7.596459865570068_epoch6.bin\n",
      "Deleted: ../models/efficientnet_v2_s_boecli48_valid_loss6.147254943847656_epoch11.bin\n",
      "Deleted: ../models/efficientnet_v2_s_8jqxioyv_valid_loss3.7461531162261963_epoch16.bin\n",
      "Deleted: ../models/pretrain_valid_loss0.0163_epoch1.bin\n",
      "Deleted: ../models/efficientnet_v2_s_qkjqdyt7_valid_loss20878.603515625_epoch5.bin\n",
      "Deleted: ../models/efficientnet_v2_s_x9qy8gwa_valid_loss4.271926403045654_epoch2.bin\n",
      "Deleted: ../models/efficientnet_v2_s_et8zbzbg_valid_loss1.4718408584594727_epoch29.bin\n",
      "Deleted: ../models/efficientnet_v2_s_qkjqdyt7_valid_loss29474.05859375_epoch4.bin\n",
      "Deleted: ../models/efficientnet_v2_s_sai4ucuy_valid_loss2.4569382667541504_epoch0.bin\n",
      "Deleted: ../models/efficientnet_v2_s_et8zbzbg_valid_loss3.2876031398773193_epoch1.bin\n",
      "Deleted: ../models/efficientnet_v2_s_boecli48_valid_loss8.168075561523438_epoch0.bin\n",
      "Deleted: ../models/efficientnet_v2_s_0e4caybo_valid_loss6.9073262214660645_epoch1.bin\n",
      "Deleted: ../models/efficientnet_v2_s_0e4caybo_valid_loss6.215769290924072_epoch11.bin\n",
      "Deleted: ../models/efficientnet_v2_s_qkjqdyt7_valid_loss1677.1474609375_epoch8.bin\n",
      "Deleted: ../models/efficientnet_v2_s_q37691gr_valid_loss0.0009015823598019779_epoch0.bin\n",
      "Deleted: ../models/efficientnet_v2_s_q37691gr_valid_loss0.0003109687240794301_epoch2.bin\n",
      "Deleted: ../models/efficientnet_v2_s_8jqxioyv_valid_loss4.493458271026611_epoch9.bin\n",
      "Deleted: ../models/efficientnet_v2_s_q37691gr_valid_loss0.0002251770201837644_epoch3.bin\n",
      "Deleted: ../models/efficientnet_v2_s_enxwbyys_valid_loss65245.29296875_epoch2.bin\n",
      "Deleted: ../models/efficientnet_v2_s_boecli48_valid_loss5.72275972366333_epoch14.bin\n",
      "Deleted: ../models/efficientnet_v2_s_enxwbyys_valid_loss5.852464199066162_epoch14.bin\n",
      "Deleted: ../models/efficientnet_v2_s_sai4ucuy_valid_loss1.4700756072998047_epoch20.bin\n",
      "Deleted: ../models/efficientnet_v2_s_lmfhy5jn_valid_loss151832.46875_epoch0.bin\n",
      "Deleted: ../models/efficientnet_v2_s_o8gwq9mh_valid_loss1.614229679107666_epoch19.bin\n",
      "Deleted: ../models/pretrain_valid_loss0.0657_epoch3.bin\n",
      "Deleted: ../models/efficientnet_v2_s_ic3l3sym_valid_loss5.532875061035156_epoch0.bin\n",
      "Deleted: ../models/efficientnet_v2_s_o8gwq9mh_valid_loss1.7995033264160156_epoch6.bin\n",
      "Deleted: ../models/efficientnet_v2_s_ckot7j34_valid_loss2.4569382667541504_epoch0.bin\n",
      "Deleted: ../models/efficientnet_v2_s_et8zbzbg_valid_loss1.4746795892715454_epoch28.bin\n",
      "Deleted: ../models/efficientnet_v2_s_qkjqdyt7_valid_loss60858.6953125_epoch1.bin\n",
      "Deleted: ../models/efficientnet_v2_s_x9qy8gwa_valid_loss6.3005595207214355_epoch0.bin\n",
      "Deleted: ../models/pretrain_valid_loss0.0163_epoch3.bin\n",
      "Deleted: ../models/efficientnet_v2_s_sai4ucuy_valid_loss1.480065107345581_epoch13.bin\n",
      "Deleted: ../models/efficientnet_v2_s_enxwbyys_valid_loss124.926025390625_epoch7.bin\n",
      "Deleted: ../models/efficientnet_v2_s_sai4ucuy_valid_loss2.3772799968719482_epoch3.bin\n",
      "Deleted: ../models/efficientnet_v2_s_qkjqdyt7_valid_loss3014.669921875_epoch7.bin\n",
      "Deleted: ../models/efficientnet_v2_s_q37691gr_valid_loss0.0002013957710005343_epoch10.bin\n",
      "Deleted: ../models/efficientnet_v2_s_o8gwq9mh_valid_loss1.684320330619812_epoch16.bin\n",
      "Deleted: ../models/efficientnet_v2_s_sai4ucuy_valid_loss1.74922776222229_epoch5.bin\n",
      "Deleted: ../models/efficientnet_v2_s_enxwbyys_valid_loss5.740982532501221_epoch17.bin\n",
      "Deleted: ../models/efficientnet_v2_s_ladxeeek_valid_loss5622.81005859375_epoch4.bin\n",
      "Deleted: ../models/efficientnet_v2_s_et8zbzbg_valid_loss1.53920578956604_epoch14.bin\n",
      "Deleted: ../models/efficientnet_v2_s_et8zbzbg_valid_loss1.8106051683425903_epoch6.bin\n",
      "Deleted: ../models/efficientnet_v2_s_ladxeeek_valid_loss1375.9488525390625_epoch7.bin\n",
      "Deleted: ../models/efficientnet_v2_s_my6buvg0_valid_loss26503.201171875_epoch2.bin\n",
      "Deleted: ../models/efficientnet_v2_s_boecli48_valid_loss6.424396991729736_epoch10.bin\n",
      "Deleted: ../models/efficientnet_v2_s_my6buvg0_valid_loss3.5540103912353516_epoch7.bin\n",
      "Deleted: ../models/efficientnet_v2_s_8jqxioyv_valid_loss6.228860855102539_epoch6.bin\n",
      "Deleted: ../models/efficientnet_v2_s_et8zbzbg_valid_loss1.9576085805892944_epoch5.bin\n",
      "Deleted: ../models/efficientnet_v2_s_8jqxioyv_valid_loss11.824889183044434_epoch0.bin\n",
      "Deleted: ../models/efficientnet_v2_s_ic3l3sym_valid_loss4.6541032791137695_epoch2.bin\n",
      "Deleted: ../models/pretrain_valid_loss0.0646_epoch5.bin\n",
      "Deleted: ../models/efficientnet_v2_s_my6buvg0_valid_loss297.3392333984375_epoch3.bin\n",
      "Deleted: ../models/efficientnet_v2_s_8jqxioyv_valid_loss10.517602920532227_epoch3.bin\n",
      "Deleted: ../models/efficientnet_v2_s_enxwbyys_valid_loss19.103843688964844_epoch11.bin\n",
      "Deleted: ../models/efficientnet_v2_s_0e4caybo_valid_loss5.909652233123779_epoch13.bin\n",
      "Deleted: ../models/efficientnet_v2_s_ladxeeek_valid_loss59.83341979980469_epoch9.bin\n",
      "Deleted: ../models/efficientnet_v2_s_et8zbzbg_valid_loss1.5707733631134033_epoch13.bin\n",
      "Deleted: ../models/efficientnet_v2_s_qv3qdl25_valid_loss9.650869369506836_epoch0.bin\n",
      "Deleted: ../models/efficientnet_v2_s_et8zbzbg_valid_loss2.4531002044677734_epoch4.bin\n",
      "Deleted: ../models/efficientnet_v2_s_7tzyyndv_valid_loss8.824906349182129_epoch1.bin\n",
      "Deleted: ../models/efficientnet_v2_s_qkjqdyt7_valid_loss34382.8671875_epoch3.bin\n",
      "Deleted: ../models/efficientnet_v2_s_ladxeeek_valid_loss7410.53125_epoch0.bin\n",
      "Deleted: ../models/efficientnet_v2_s_enxwbyys_valid_loss3378.539306640625_epoch3.bin\n",
      "Deleted: ../models/efficientnet_v2_s_ladxeeek_valid_loss5.833779811859131_epoch11.bin\n",
      "Deleted: ../models/pretrain_valid_loss0.0164_epoch0.bin\n",
      "Deleted: ../models/efficientnet_v2_s_enxwbyys_valid_loss30.95686149597168_epoch10.bin\n",
      "Deleted: ../models/pretrain_valid_loss0.0645_epoch6.bin\n",
      "Deleted: ../models/efficientnet_v2_s_x9qy8gwa_valid_loss5.023777961730957_epoch1.bin\n",
      "Deleted: ../models/pretrain_valid_loss0.0162_epoch5.bin\n",
      "Deleted: ../models/efficientnet_v2_s_7tzyyndv_valid_loss6.441094875335693_epoch3.bin\n",
      "Deleted: ../models/efficientnet_v2_s_my6buvg0_valid_loss3.274614095687866_epoch11.bin\n",
      "Deleted: ../models/efficientnet_v2_s_8jqxioyv_valid_loss3.925720453262329_epoch10.bin\n",
      "Deleted: ../models/efficientnet_v2_s_et8zbzbg_valid_loss2.6880440711975098_epoch2.bin\n",
      "Deleted: ../models/efficientnet_v2_s_ic3l3sym_valid_loss3.8262481689453125_epoch3.bin\n",
      "Deleted: ../models/efficientnet_v2_s_my6buvg0_valid_loss122811.6328125_epoch0.bin\n",
      "Deleted: ../models/efficientnet_v2_s_q37691gr_valid_loss0.00014253822155296803_epoch11.bin\n",
      "Deleted: ../models/efficientnet_v2_s_enxwbyys_valid_loss5.614263534545898_epoch19.bin\n",
      "Deleted: ../models/efficientnet_v2_s_o8gwq9mh_valid_loss3.318666696548462_epoch0.bin\n",
      "Deleted: ../models/efficientnet_v2_s_qkjqdyt7_valid_loss50498.21484375_epoch2.bin\n",
      "Deleted: ../models/efficientnet_v2_s_0e4caybo_valid_loss6.140820026397705_epoch12.bin\n",
      "Deleted: ../models/efficientnet_v2_s_qkjqdyt7_valid_loss81359.15625_epoch0.bin\n",
      "Deleted: ../models/efficientnet_v2_s_qkjqdyt7_valid_loss20.802534103393555_epoch9.bin\n",
      "Deleted: ../models/efficientnet_v2_s_et8zbzbg_valid_loss3.9515321254730225_epoch0.bin\n",
      "Deleted: ../models/efficientnet_v2_s_8jqxioyv_valid_loss6.680732250213623_epoch4.bin\n",
      "Deleted: ../models/pretrain_valid_loss0.0671_epoch1.bin\n",
      "Deleted: ../models/efficientnet_v2_s_o8gwq9mh_valid_loss1.9737380743026733_epoch4.bin\n",
      "Deleted: ../models/pretrain_valid_loss0.0997_epoch0.bin\n",
      "Deleted: ../models/efficientnet_v2_s_q37691gr_valid_loss4.658746183849871e-05_epoch15.bin\n",
      "Deleted: ../models/efficientnet_v2_s_ic3l3sym_valid_loss2.935492992401123_epoch7.bin\n",
      "Deleted: ../models/efficientnet_v2_s_sai4ucuy_valid_loss2.363863945007324_epoch4.bin\n",
      "Deleted: ../models/efficientnet_v2_s_my6buvg0_valid_loss217.22389221191406_epoch5.bin\n",
      "Deleted: ../models/efficientnet_v2_s_ladxeeek_valid_loss1831.0362548828125_epoch5.bin\n",
      "Deleted: ../models/efficientnet_v2_s_et8zbzbg_valid_loss1.6201010942459106_epoch11.bin\n"
     ]
    }
   ],
   "source": [
    "delete_models(delete_model_paths)"
   ]
  },
  {
   "cell_type": "code",
   "execution_count": null,
   "metadata": {},
   "outputs": [],
   "source": []
  }
 ],
 "metadata": {
  "kernelspec": {
   "display_name": "skin",
   "language": "python",
   "name": "python3"
  },
  "language_info": {
   "codemirror_mode": {
    "name": "ipython",
    "version": 3
   },
   "file_extension": ".py",
   "mimetype": "text/x-python",
   "name": "python",
   "nbconvert_exporter": "python",
   "pygments_lexer": "ipython3",
   "version": "3.10.12"
  }
 },
 "nbformat": 4,
 "nbformat_minor": 2
}
